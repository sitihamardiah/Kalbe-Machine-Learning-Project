{
 "cells": [
  {
   "cell_type": "markdown",
   "id": "c04dba2d-9a75-4362-a706-ad1ed8f21781",
   "metadata": {},
   "source": [
    "# **✨ Create Regression Model Using ARIMA Model✨** #"
   ]
  },
  {
   "cell_type": "markdown",
   "id": "3bb221c9-1ea3-4da0-8133-3464f7129e4d",
   "metadata": {},
   "source": [
    "## **📍 Table of Content 📍**\n",
    "- Business Understanding\n",
    "\n",
    "- Data Preparation\n",
    "    - Import Libraries\n",
    "    - Import Datasets\n",
    "    \n",
    "- Data Understanding/Exploring Datasets\n",
    "    - Data Shape\n",
    "    - Data Info\n",
    "    - Checking Missing Value\n",
    "    - Checking Duplicate Rows\n",
    "    \n",
    "- Data Preprocessing\n",
    "    - Rename Column\n",
    "    - Change Data Type\n",
    "    - Data Imputation\n",
    "    - Create Forecasting Data for Modeling\n",
    "    \n",
    "- Exploratory Data Analysis\n",
    "    - Check Quantity based on Date\n",
    "    - Check ACF and PACF\n",
    "    - Check Data Stationary\n",
    "    \n",
    "- Split Data Training and Testing\n",
    "\n",
    "- ARIMA Model Prediction\n",
    "    - Auto ARIMA Model Best Suit\n",
    "    - Training Model\n",
    "    - Model Evaluation\n",
    "- Business Insight\n",
    "    - Daily Quantiity Product Forecasting\n",
    "    - Quantity Sold Each Product Forecasting\n",
    "    \n",
    "## **Datasets** ##\n",
    "- [Customer](https://drive.google.com/file/d/1iC_2MvbHQsLq_uqSjejZnPExKcrKXsCa/view?usp=sharing)\n",
    "- [Product](https://drive.google.com/file/d/1YHY_VunBnw2N9tYFsrGZwbTdLAsU_cAf/view?usp=sharing)\n",
    "- [Store](https://drive.google.com/file/d/16N4dJOPb4ph3Jrx0dqrp3r2CJlSpTbnC/view?usp=sharing)\n",
    "- [Transaction](https://drive.google.com/file/d/1CHLPSxzMBNtft64xf3R-FyU3W3rw3QTB/view?usp=sharing)"
   ]
  },
  {
   "cell_type": "markdown",
   "id": "209bba35-ee57-467c-91fc-f945f9644f15",
   "metadata": {},
   "source": [
    "## **💡 Business Understanding** ##\n",
    "\n",
    "The inventory team needs help from the Data Team to be able to help predict the sales volume (quantity) of the total number of Kalbe products.\n",
    "\n",
    "The aim of this project is to find out estimate the quantity of product sold so that the team inventory can make stock daily inventory sufficient.\n",
    "\n",
    "Predictions must be made daily."
   ]
  },
  {
   "cell_type": "markdown",
   "id": "5f1110e2-4d52-46c7-98fa-2a07830120c4",
   "metadata": {},
   "source": [
    "## **💡 Data Preparation** ##"
   ]
  },
  {
   "cell_type": "markdown",
   "id": "0afbca01-556e-4f20-bcb6-e188231dabdc",
   "metadata": {},
   "source": [
    "### **📌 Import Libraries** ###"
   ]
  },
  {
   "cell_type": "code",
   "execution_count": 1,
   "id": "00df5b34-40fb-4b3c-8a53-62fdb749697a",
   "metadata": {},
   "outputs": [],
   "source": [
    "import pandas as pd\n",
    "import numpy as np\n",
    "import seaborn as sns\n",
    "import matplotlib.pyplot as plt\n",
    "import pmdarima as pm\n",
    "from tabulate import tabulate\n",
    "from statsmodels.tsa.arima.model import ARIMA\n",
    "from statsmodels.graphics.tsaplots import plot_acf, plot_pacf\n",
    "from statsmodels.tsa.stattools import adfuller\n",
    "from sklearn.model_selection import train_test_split\n",
    "from sklearn.metrics import mean_absolute_error, mean_absolute_percentage_error, mean_squared_error"
   ]
  },
  {
   "cell_type": "markdown",
   "id": "359294ab-ef28-4407-ae36-96f7402f73f6",
   "metadata": {},
   "source": [
    "### **📌 Import Dataset** ###"
   ]
  },
  {
   "cell_type": "code",
   "execution_count": 2,
   "id": "0b375cde-0965-4f72-972f-2572a3a39ab4",
   "metadata": {},
   "outputs": [],
   "source": [
    "#Read all csv files\n",
    "customers = pd.read_csv('database/Case Study - Customer.csv',sep=';')\n",
    "product = pd.read_csv('database/Case Study - Product.csv',sep=';')\n",
    "transaction = pd.read_csv('database/Case Study - Transaction.csv',sep=';')\n",
    "store = pd.read_csv('database/Case Study - Store.csv',sep=';')"
   ]
  },
  {
   "cell_type": "code",
   "execution_count": 3,
   "id": "a9afe349-1203-4ac2-934d-529a7060918a",
   "metadata": {},
   "outputs": [
    {
     "data": {
      "text/html": [
       "<div>\n",
       "<style scoped>\n",
       "    .dataframe tbody tr th:only-of-type {\n",
       "        vertical-align: middle;\n",
       "    }\n",
       "\n",
       "    .dataframe tbody tr th {\n",
       "        vertical-align: top;\n",
       "    }\n",
       "\n",
       "    .dataframe thead th {\n",
       "        text-align: right;\n",
       "    }\n",
       "</style>\n",
       "<table border=\"1\" class=\"dataframe\">\n",
       "  <thead>\n",
       "    <tr style=\"text-align: right;\">\n",
       "      <th></th>\n",
       "      <th>CustomerID</th>\n",
       "      <th>Age</th>\n",
       "      <th>Gender</th>\n",
       "      <th>Marital Status</th>\n",
       "      <th>Income</th>\n",
       "    </tr>\n",
       "  </thead>\n",
       "  <tbody>\n",
       "    <tr>\n",
       "      <th>0</th>\n",
       "      <td>1</td>\n",
       "      <td>55</td>\n",
       "      <td>1</td>\n",
       "      <td>Married</td>\n",
       "      <td>5,12</td>\n",
       "    </tr>\n",
       "    <tr>\n",
       "      <th>1</th>\n",
       "      <td>2</td>\n",
       "      <td>60</td>\n",
       "      <td>1</td>\n",
       "      <td>Married</td>\n",
       "      <td>6,23</td>\n",
       "    </tr>\n",
       "    <tr>\n",
       "      <th>2</th>\n",
       "      <td>3</td>\n",
       "      <td>32</td>\n",
       "      <td>1</td>\n",
       "      <td>Married</td>\n",
       "      <td>9,17</td>\n",
       "    </tr>\n",
       "    <tr>\n",
       "      <th>3</th>\n",
       "      <td>4</td>\n",
       "      <td>31</td>\n",
       "      <td>1</td>\n",
       "      <td>Married</td>\n",
       "      <td>4,87</td>\n",
       "    </tr>\n",
       "    <tr>\n",
       "      <th>4</th>\n",
       "      <td>5</td>\n",
       "      <td>58</td>\n",
       "      <td>1</td>\n",
       "      <td>Married</td>\n",
       "      <td>3,57</td>\n",
       "    </tr>\n",
       "  </tbody>\n",
       "</table>\n",
       "</div>"
      ],
      "text/plain": [
       "   CustomerID  Age  Gender Marital Status Income\n",
       "0           1   55       1        Married   5,12\n",
       "1           2   60       1        Married   6,23\n",
       "2           3   32       1        Married   9,17\n",
       "3           4   31       1        Married   4,87\n",
       "4           5   58       1        Married   3,57"
      ]
     },
     "execution_count": 3,
     "metadata": {},
     "output_type": "execute_result"
    }
   ],
   "source": [
    "customers.head()"
   ]
  },
  {
   "cell_type": "code",
   "execution_count": 4,
   "id": "8325777f-0090-442a-a861-10fc9e5d5a1e",
   "metadata": {},
   "outputs": [
    {
     "data": {
      "text/html": [
       "<div>\n",
       "<style scoped>\n",
       "    .dataframe tbody tr th:only-of-type {\n",
       "        vertical-align: middle;\n",
       "    }\n",
       "\n",
       "    .dataframe tbody tr th {\n",
       "        vertical-align: top;\n",
       "    }\n",
       "\n",
       "    .dataframe thead th {\n",
       "        text-align: right;\n",
       "    }\n",
       "</style>\n",
       "<table border=\"1\" class=\"dataframe\">\n",
       "  <thead>\n",
       "    <tr style=\"text-align: right;\">\n",
       "      <th></th>\n",
       "      <th>ProductID</th>\n",
       "      <th>Product Name</th>\n",
       "      <th>Price</th>\n",
       "    </tr>\n",
       "  </thead>\n",
       "  <tbody>\n",
       "    <tr>\n",
       "      <th>0</th>\n",
       "      <td>P1</td>\n",
       "      <td>Choco Bar</td>\n",
       "      <td>8800</td>\n",
       "    </tr>\n",
       "    <tr>\n",
       "      <th>1</th>\n",
       "      <td>P2</td>\n",
       "      <td>Ginger Candy</td>\n",
       "      <td>3200</td>\n",
       "    </tr>\n",
       "    <tr>\n",
       "      <th>2</th>\n",
       "      <td>P3</td>\n",
       "      <td>Crackers</td>\n",
       "      <td>7500</td>\n",
       "    </tr>\n",
       "    <tr>\n",
       "      <th>3</th>\n",
       "      <td>P4</td>\n",
       "      <td>Potato Chip</td>\n",
       "      <td>12000</td>\n",
       "    </tr>\n",
       "    <tr>\n",
       "      <th>4</th>\n",
       "      <td>P5</td>\n",
       "      <td>Thai Tea</td>\n",
       "      <td>4200</td>\n",
       "    </tr>\n",
       "  </tbody>\n",
       "</table>\n",
       "</div>"
      ],
      "text/plain": [
       "  ProductID   Product Name  Price\n",
       "0        P1      Choco Bar   8800\n",
       "1        P2  Ginger Candy    3200\n",
       "2        P3       Crackers   7500\n",
       "3        P4    Potato Chip  12000\n",
       "4        P5       Thai Tea   4200"
      ]
     },
     "execution_count": 4,
     "metadata": {},
     "output_type": "execute_result"
    }
   ],
   "source": [
    "product.head()"
   ]
  },
  {
   "cell_type": "code",
   "execution_count": 5,
   "id": "c6063a74-e6d7-4a07-bf08-93906bf3a501",
   "metadata": {},
   "outputs": [
    {
     "data": {
      "text/html": [
       "<div>\n",
       "<style scoped>\n",
       "    .dataframe tbody tr th:only-of-type {\n",
       "        vertical-align: middle;\n",
       "    }\n",
       "\n",
       "    .dataframe tbody tr th {\n",
       "        vertical-align: top;\n",
       "    }\n",
       "\n",
       "    .dataframe thead th {\n",
       "        text-align: right;\n",
       "    }\n",
       "</style>\n",
       "<table border=\"1\" class=\"dataframe\">\n",
       "  <thead>\n",
       "    <tr style=\"text-align: right;\">\n",
       "      <th></th>\n",
       "      <th>StoreID</th>\n",
       "      <th>StoreName</th>\n",
       "      <th>GroupStore</th>\n",
       "      <th>Type</th>\n",
       "      <th>Latitude</th>\n",
       "      <th>Longitude</th>\n",
       "    </tr>\n",
       "  </thead>\n",
       "  <tbody>\n",
       "    <tr>\n",
       "      <th>0</th>\n",
       "      <td>1</td>\n",
       "      <td>Prima Tendean</td>\n",
       "      <td>Prima</td>\n",
       "      <td>Modern Trade</td>\n",
       "      <td>-6,2</td>\n",
       "      <td>106,816666</td>\n",
       "    </tr>\n",
       "    <tr>\n",
       "      <th>1</th>\n",
       "      <td>2</td>\n",
       "      <td>Prima Kelapa Dua</td>\n",
       "      <td>Prima</td>\n",
       "      <td>Modern Trade</td>\n",
       "      <td>-6,914864</td>\n",
       "      <td>107,608238</td>\n",
       "    </tr>\n",
       "    <tr>\n",
       "      <th>2</th>\n",
       "      <td>3</td>\n",
       "      <td>Prima Kota</td>\n",
       "      <td>Prima</td>\n",
       "      <td>Modern Trade</td>\n",
       "      <td>-7,797068</td>\n",
       "      <td>110,370529</td>\n",
       "    </tr>\n",
       "    <tr>\n",
       "      <th>3</th>\n",
       "      <td>4</td>\n",
       "      <td>Gita Ginara</td>\n",
       "      <td>Gita</td>\n",
       "      <td>General Trade</td>\n",
       "      <td>-6,966667</td>\n",
       "      <td>110,416664</td>\n",
       "    </tr>\n",
       "    <tr>\n",
       "      <th>4</th>\n",
       "      <td>5</td>\n",
       "      <td>Bonafid</td>\n",
       "      <td>Gita</td>\n",
       "      <td>General Trade</td>\n",
       "      <td>-7,250445</td>\n",
       "      <td>112,768845</td>\n",
       "    </tr>\n",
       "  </tbody>\n",
       "</table>\n",
       "</div>"
      ],
      "text/plain": [
       "   StoreID         StoreName GroupStore           Type   Latitude   Longitude\n",
       "0        1     Prima Tendean      Prima   Modern Trade       -6,2  106,816666\n",
       "1        2  Prima Kelapa Dua      Prima   Modern Trade  -6,914864  107,608238\n",
       "2        3        Prima Kota      Prima   Modern Trade  -7,797068  110,370529\n",
       "3        4       Gita Ginara       Gita  General Trade  -6,966667  110,416664\n",
       "4        5           Bonafid       Gita  General Trade  -7,250445  112,768845"
      ]
     },
     "execution_count": 5,
     "metadata": {},
     "output_type": "execute_result"
    }
   ],
   "source": [
    "store.head()"
   ]
  },
  {
   "cell_type": "code",
   "execution_count": 6,
   "id": "17a18d93-148a-474a-a336-3f6f95bf49c9",
   "metadata": {},
   "outputs": [
    {
     "data": {
      "text/html": [
       "<div>\n",
       "<style scoped>\n",
       "    .dataframe tbody tr th:only-of-type {\n",
       "        vertical-align: middle;\n",
       "    }\n",
       "\n",
       "    .dataframe tbody tr th {\n",
       "        vertical-align: top;\n",
       "    }\n",
       "\n",
       "    .dataframe thead th {\n",
       "        text-align: right;\n",
       "    }\n",
       "</style>\n",
       "<table border=\"1\" class=\"dataframe\">\n",
       "  <thead>\n",
       "    <tr style=\"text-align: right;\">\n",
       "      <th></th>\n",
       "      <th>TransactionID</th>\n",
       "      <th>CustomerID</th>\n",
       "      <th>Date</th>\n",
       "      <th>ProductID</th>\n",
       "      <th>Price</th>\n",
       "      <th>Qty</th>\n",
       "      <th>TotalAmount</th>\n",
       "      <th>StoreID</th>\n",
       "    </tr>\n",
       "  </thead>\n",
       "  <tbody>\n",
       "    <tr>\n",
       "      <th>0</th>\n",
       "      <td>TR11369</td>\n",
       "      <td>328</td>\n",
       "      <td>01/01/2022</td>\n",
       "      <td>P3</td>\n",
       "      <td>7500</td>\n",
       "      <td>4</td>\n",
       "      <td>30000</td>\n",
       "      <td>12</td>\n",
       "    </tr>\n",
       "    <tr>\n",
       "      <th>1</th>\n",
       "      <td>TR16356</td>\n",
       "      <td>165</td>\n",
       "      <td>01/01/2022</td>\n",
       "      <td>P9</td>\n",
       "      <td>10000</td>\n",
       "      <td>7</td>\n",
       "      <td>70000</td>\n",
       "      <td>1</td>\n",
       "    </tr>\n",
       "    <tr>\n",
       "      <th>2</th>\n",
       "      <td>TR1984</td>\n",
       "      <td>183</td>\n",
       "      <td>01/01/2022</td>\n",
       "      <td>P1</td>\n",
       "      <td>8800</td>\n",
       "      <td>4</td>\n",
       "      <td>35200</td>\n",
       "      <td>4</td>\n",
       "    </tr>\n",
       "    <tr>\n",
       "      <th>3</th>\n",
       "      <td>TR35256</td>\n",
       "      <td>160</td>\n",
       "      <td>01/01/2022</td>\n",
       "      <td>P1</td>\n",
       "      <td>8800</td>\n",
       "      <td>7</td>\n",
       "      <td>61600</td>\n",
       "      <td>4</td>\n",
       "    </tr>\n",
       "    <tr>\n",
       "      <th>4</th>\n",
       "      <td>TR41231</td>\n",
       "      <td>386</td>\n",
       "      <td>01/01/2022</td>\n",
       "      <td>P9</td>\n",
       "      <td>10000</td>\n",
       "      <td>1</td>\n",
       "      <td>10000</td>\n",
       "      <td>4</td>\n",
       "    </tr>\n",
       "  </tbody>\n",
       "</table>\n",
       "</div>"
      ],
      "text/plain": [
       "  TransactionID  CustomerID        Date ProductID  Price  Qty  TotalAmount  \\\n",
       "0       TR11369         328  01/01/2022        P3   7500    4        30000   \n",
       "1       TR16356         165  01/01/2022        P9  10000    7        70000   \n",
       "2        TR1984         183  01/01/2022        P1   8800    4        35200   \n",
       "3       TR35256         160  01/01/2022        P1   8800    7        61600   \n",
       "4       TR41231         386  01/01/2022        P9  10000    1        10000   \n",
       "\n",
       "   StoreID  \n",
       "0       12  \n",
       "1        1  \n",
       "2        4  \n",
       "3        4  \n",
       "4        4  "
      ]
     },
     "execution_count": 6,
     "metadata": {},
     "output_type": "execute_result"
    }
   ],
   "source": [
    "transaction.head()"
   ]
  },
  {
   "cell_type": "code",
   "execution_count": 7,
   "id": "655a86c7-9486-473a-acd3-2f2ad16c3e03",
   "metadata": {},
   "outputs": [
    {
     "data": {
      "text/html": [
       "<div>\n",
       "<style scoped>\n",
       "    .dataframe tbody tr th:only-of-type {\n",
       "        vertical-align: middle;\n",
       "    }\n",
       "\n",
       "    .dataframe tbody tr th {\n",
       "        vertical-align: top;\n",
       "    }\n",
       "\n",
       "    .dataframe thead th {\n",
       "        text-align: right;\n",
       "    }\n",
       "</style>\n",
       "<table border=\"1\" class=\"dataframe\">\n",
       "  <thead>\n",
       "    <tr style=\"text-align: right;\">\n",
       "      <th></th>\n",
       "      <th>TransactionID</th>\n",
       "      <th>CustomerID</th>\n",
       "      <th>Date</th>\n",
       "      <th>ProductID</th>\n",
       "      <th>Price_customers</th>\n",
       "      <th>Qty</th>\n",
       "      <th>TotalAmount</th>\n",
       "      <th>StoreID</th>\n",
       "      <th>Product Name</th>\n",
       "      <th>Price_product</th>\n",
       "      <th>StoreName</th>\n",
       "      <th>GroupStore</th>\n",
       "      <th>Type</th>\n",
       "      <th>Latitude</th>\n",
       "      <th>Longitude</th>\n",
       "      <th>Age</th>\n",
       "      <th>Gender</th>\n",
       "      <th>Marital Status</th>\n",
       "      <th>Income</th>\n",
       "    </tr>\n",
       "  </thead>\n",
       "  <tbody>\n",
       "    <tr>\n",
       "      <th>0</th>\n",
       "      <td>TR11369</td>\n",
       "      <td>328</td>\n",
       "      <td>01/01/2022</td>\n",
       "      <td>P3</td>\n",
       "      <td>7500</td>\n",
       "      <td>4</td>\n",
       "      <td>30000</td>\n",
       "      <td>12</td>\n",
       "      <td>Crackers</td>\n",
       "      <td>7500</td>\n",
       "      <td>Prestasi Utama</td>\n",
       "      <td>Prestasi</td>\n",
       "      <td>General Trade</td>\n",
       "      <td>-2,990934</td>\n",
       "      <td>104,756554</td>\n",
       "      <td>36</td>\n",
       "      <td>0</td>\n",
       "      <td>Married</td>\n",
       "      <td>10,53</td>\n",
       "    </tr>\n",
       "    <tr>\n",
       "      <th>1</th>\n",
       "      <td>TR56601</td>\n",
       "      <td>328</td>\n",
       "      <td>24/12/2022</td>\n",
       "      <td>P9</td>\n",
       "      <td>10000</td>\n",
       "      <td>1</td>\n",
       "      <td>10000</td>\n",
       "      <td>9</td>\n",
       "      <td>Yoghurt</td>\n",
       "      <td>10000</td>\n",
       "      <td>Lingga</td>\n",
       "      <td>Lingga</td>\n",
       "      <td>Modern Trade</td>\n",
       "      <td>-3,654703</td>\n",
       "      <td>128,190643</td>\n",
       "      <td>36</td>\n",
       "      <td>0</td>\n",
       "      <td>Married</td>\n",
       "      <td>10,53</td>\n",
       "    </tr>\n",
       "    <tr>\n",
       "      <th>2</th>\n",
       "      <td>TR89012</td>\n",
       "      <td>328</td>\n",
       "      <td>25/03/2022</td>\n",
       "      <td>P5</td>\n",
       "      <td>4200</td>\n",
       "      <td>5</td>\n",
       "      <td>21000</td>\n",
       "      <td>6</td>\n",
       "      <td>Thai Tea</td>\n",
       "      <td>4200</td>\n",
       "      <td>Lingga</td>\n",
       "      <td>Lingga</td>\n",
       "      <td>Modern Trade</td>\n",
       "      <td>-5,135399</td>\n",
       "      <td>119,42379</td>\n",
       "      <td>36</td>\n",
       "      <td>0</td>\n",
       "      <td>Married</td>\n",
       "      <td>10,53</td>\n",
       "    </tr>\n",
       "    <tr>\n",
       "      <th>3</th>\n",
       "      <td>TR67395</td>\n",
       "      <td>328</td>\n",
       "      <td>22/01/2022</td>\n",
       "      <td>P8</td>\n",
       "      <td>16000</td>\n",
       "      <td>3</td>\n",
       "      <td>48000</td>\n",
       "      <td>11</td>\n",
       "      <td>Oat</td>\n",
       "      <td>16000</td>\n",
       "      <td>Sinar Harapan</td>\n",
       "      <td>Prestasi</td>\n",
       "      <td>General Trade</td>\n",
       "      <td>0,533505</td>\n",
       "      <td>101,447403</td>\n",
       "      <td>36</td>\n",
       "      <td>0</td>\n",
       "      <td>Married</td>\n",
       "      <td>10,53</td>\n",
       "    </tr>\n",
       "    <tr>\n",
       "      <th>4</th>\n",
       "      <td>TR45738</td>\n",
       "      <td>328</td>\n",
       "      <td>29/12/2022</td>\n",
       "      <td>P2</td>\n",
       "      <td>3200</td>\n",
       "      <td>3</td>\n",
       "      <td>9600</td>\n",
       "      <td>11</td>\n",
       "      <td>Ginger Candy</td>\n",
       "      <td>3200</td>\n",
       "      <td>Sinar Harapan</td>\n",
       "      <td>Prestasi</td>\n",
       "      <td>General Trade</td>\n",
       "      <td>0,533505</td>\n",
       "      <td>101,447403</td>\n",
       "      <td>36</td>\n",
       "      <td>0</td>\n",
       "      <td>Married</td>\n",
       "      <td>10,53</td>\n",
       "    </tr>\n",
       "  </tbody>\n",
       "</table>\n",
       "</div>"
      ],
      "text/plain": [
       "  TransactionID  CustomerID        Date ProductID  Price_customers  Qty  \\\n",
       "0       TR11369         328  01/01/2022        P3             7500    4   \n",
       "1       TR56601         328  24/12/2022        P9            10000    1   \n",
       "2       TR89012         328  25/03/2022        P5             4200    5   \n",
       "3       TR67395         328  22/01/2022        P8            16000    3   \n",
       "4       TR45738         328  29/12/2022        P2             3200    3   \n",
       "\n",
       "   TotalAmount  StoreID   Product Name  Price_product       StoreName  \\\n",
       "0        30000       12       Crackers           7500  Prestasi Utama   \n",
       "1        10000        9        Yoghurt          10000          Lingga   \n",
       "2        21000        6       Thai Tea           4200          Lingga   \n",
       "3        48000       11            Oat          16000   Sinar Harapan   \n",
       "4         9600       11  Ginger Candy            3200   Sinar Harapan   \n",
       "\n",
       "  GroupStore           Type   Latitude   Longitude  Age  Gender  \\\n",
       "0   Prestasi  General Trade  -2,990934  104,756554   36       0   \n",
       "1     Lingga   Modern Trade  -3,654703  128,190643   36       0   \n",
       "2     Lingga   Modern Trade  -5,135399   119,42379   36       0   \n",
       "3   Prestasi  General Trade   0,533505  101,447403   36       0   \n",
       "4   Prestasi  General Trade   0,533505  101,447403   36       0   \n",
       "\n",
       "  Marital Status Income  \n",
       "0        Married  10,53  \n",
       "1        Married  10,53  \n",
       "2        Married  10,53  \n",
       "3        Married  10,53  \n",
       "4        Married  10,53  "
      ]
     },
     "execution_count": 7,
     "metadata": {},
     "output_type": "execute_result"
    }
   ],
   "source": [
    "# Merge all table into one\n",
    "\n",
    "df = pd.merge(transaction, product,on='ProductID', suffixes = ('_customers', '_product'))\n",
    "df = pd.merge(df, store, on='StoreID')\n",
    "df = pd.merge(df, customers, on='CustomerID')\n",
    "df.head()"
   ]
  },
  {
   "cell_type": "markdown",
   "id": "7af5de8d-c70b-43f7-9f00-5304c656bca4",
   "metadata": {},
   "source": [
    "## **💡 Data Understanding/Exploring Dataset** ##"
   ]
  },
  {
   "cell_type": "markdown",
   "id": "4a738f8e-a4bf-4583-8d86-31efa4dfd0ca",
   "metadata": {},
   "source": [
    "### **📌 Data Shape** ##"
   ]
  },
  {
   "cell_type": "code",
   "execution_count": 8,
   "id": "b7c8e3b8-9822-480b-8f18-2ad9a607e8e3",
   "metadata": {},
   "outputs": [
    {
     "name": "stdout",
     "output_type": "stream",
     "text": [
      "Shape of data : (5020, 19)\n",
      "Number of rows : 5020\n",
      "Number of columns : 19\n"
     ]
    }
   ],
   "source": [
    "print(\"Shape of data :\", df.shape)\n",
    "print(\"Number of rows :\", df.shape[0])\n",
    "print(\"Number of columns :\", df.shape[1])"
   ]
  },
  {
   "cell_type": "markdown",
   "id": "56eb43d0-3686-445c-812c-4f2a6419cde2",
   "metadata": {},
   "source": [
    "### **📌 Data Info** ###"
   ]
  },
  {
   "cell_type": "code",
   "execution_count": 9,
   "id": "2bfad21c-430e-4263-9ee9-5bdc4174029c",
   "metadata": {},
   "outputs": [
    {
     "name": "stdout",
     "output_type": "stream",
     "text": [
      "<class 'pandas.core.frame.DataFrame'>\n",
      "Int64Index: 5020 entries, 0 to 5019\n",
      "Data columns (total 19 columns):\n",
      " #   Column           Non-Null Count  Dtype \n",
      "---  ------           --------------  ----- \n",
      " 0   TransactionID    5020 non-null   object\n",
      " 1   CustomerID       5020 non-null   int64 \n",
      " 2   Date             5020 non-null   object\n",
      " 3   ProductID        5020 non-null   object\n",
      " 4   Price_customers  5020 non-null   int64 \n",
      " 5   Qty              5020 non-null   int64 \n",
      " 6   TotalAmount      5020 non-null   int64 \n",
      " 7   StoreID          5020 non-null   int64 \n",
      " 8   Product Name     5020 non-null   object\n",
      " 9   Price_product    5020 non-null   int64 \n",
      " 10  StoreName        5020 non-null   object\n",
      " 11  GroupStore       5020 non-null   object\n",
      " 12  Type             5020 non-null   object\n",
      " 13  Latitude         5020 non-null   object\n",
      " 14  Longitude        5020 non-null   object\n",
      " 15  Age              5020 non-null   int64 \n",
      " 16  Gender           5020 non-null   int64 \n",
      " 17  Marital Status   4976 non-null   object\n",
      " 18  Income           5020 non-null   object\n",
      "dtypes: int64(8), object(11)\n",
      "memory usage: 784.4+ KB\n"
     ]
    }
   ],
   "source": [
    "df.info()"
   ]
  },
  {
   "cell_type": "markdown",
   "id": "e0e3f622-2d47-4b6f-8033-81af1649b42c",
   "metadata": {},
   "source": [
    "### **📌 Checking Missing Value** ###"
   ]
  },
  {
   "cell_type": "code",
   "execution_count": 10,
   "id": "93152566-b274-4d66-bc43-021e70a56039",
   "metadata": {},
   "outputs": [
    {
     "data": {
      "text/plain": [
       "TransactionID       0\n",
       "CustomerID          0\n",
       "Date                0\n",
       "ProductID           0\n",
       "Price_customers     0\n",
       "Qty                 0\n",
       "TotalAmount         0\n",
       "StoreID             0\n",
       "Product Name        0\n",
       "Price_product       0\n",
       "StoreName           0\n",
       "GroupStore          0\n",
       "Type                0\n",
       "Latitude            0\n",
       "Longitude           0\n",
       "Age                 0\n",
       "Gender              0\n",
       "Marital Status     44\n",
       "Income              0\n",
       "dtype: int64"
      ]
     },
     "execution_count": 10,
     "metadata": {},
     "output_type": "execute_result"
    }
   ],
   "source": [
    "df.isna().sum()"
   ]
  },
  {
   "cell_type": "markdown",
   "id": "abfe430d-2660-405c-80d0-8cb403369804",
   "metadata": {},
   "source": [
    "### **📌 Checking Duplicate Row** ###"
   ]
  },
  {
   "cell_type": "code",
   "execution_count": 11,
   "id": "a11fcf02-ee2a-4f23-be71-d381b183d220",
   "metadata": {},
   "outputs": [
    {
     "data": {
      "text/plain": [
       "0"
      ]
     },
     "execution_count": 11,
     "metadata": {},
     "output_type": "execute_result"
    }
   ],
   "source": [
    "df.duplicated().sum()"
   ]
  },
  {
   "cell_type": "markdown",
   "id": "a032776d-73ff-473e-a944-3784978b26d4",
   "metadata": {},
   "source": [
    "## **💡 Data Preprocessing** ##"
   ]
  },
  {
   "cell_type": "markdown",
   "id": "05e96a59-ef99-4c47-b7f5-802faa1d0082",
   "metadata": {},
   "source": [
    "### **📌 Rename Column** ###"
   ]
  },
  {
   "cell_type": "code",
   "execution_count": 12,
   "id": "7a4e8b4e-f954-4d4e-9511-33193a3e9e76",
   "metadata": {},
   "outputs": [
    {
     "data": {
      "text/html": [
       "<div>\n",
       "<style scoped>\n",
       "    .dataframe tbody tr th:only-of-type {\n",
       "        vertical-align: middle;\n",
       "    }\n",
       "\n",
       "    .dataframe tbody tr th {\n",
       "        vertical-align: top;\n",
       "    }\n",
       "\n",
       "    .dataframe thead th {\n",
       "        text-align: right;\n",
       "    }\n",
       "</style>\n",
       "<table border=\"1\" class=\"dataframe\">\n",
       "  <thead>\n",
       "    <tr style=\"text-align: right;\">\n",
       "      <th></th>\n",
       "      <th>transactionid</th>\n",
       "      <th>customerid</th>\n",
       "      <th>date</th>\n",
       "      <th>productid</th>\n",
       "      <th>price_customers</th>\n",
       "      <th>qty</th>\n",
       "      <th>totalamount</th>\n",
       "      <th>storeid</th>\n",
       "      <th>product_name</th>\n",
       "      <th>price_product</th>\n",
       "      <th>storename</th>\n",
       "      <th>groupstore</th>\n",
       "      <th>type</th>\n",
       "      <th>latitude</th>\n",
       "      <th>longitude</th>\n",
       "      <th>age</th>\n",
       "      <th>gender</th>\n",
       "      <th>marital_status</th>\n",
       "      <th>income</th>\n",
       "    </tr>\n",
       "  </thead>\n",
       "  <tbody>\n",
       "    <tr>\n",
       "      <th>0</th>\n",
       "      <td>TR11369</td>\n",
       "      <td>328</td>\n",
       "      <td>01/01/2022</td>\n",
       "      <td>P3</td>\n",
       "      <td>7500</td>\n",
       "      <td>4</td>\n",
       "      <td>30000</td>\n",
       "      <td>12</td>\n",
       "      <td>Crackers</td>\n",
       "      <td>7500</td>\n",
       "      <td>Prestasi Utama</td>\n",
       "      <td>Prestasi</td>\n",
       "      <td>General Trade</td>\n",
       "      <td>-2,990934</td>\n",
       "      <td>104,756554</td>\n",
       "      <td>36</td>\n",
       "      <td>0</td>\n",
       "      <td>Married</td>\n",
       "      <td>10,53</td>\n",
       "    </tr>\n",
       "    <tr>\n",
       "      <th>1</th>\n",
       "      <td>TR56601</td>\n",
       "      <td>328</td>\n",
       "      <td>24/12/2022</td>\n",
       "      <td>P9</td>\n",
       "      <td>10000</td>\n",
       "      <td>1</td>\n",
       "      <td>10000</td>\n",
       "      <td>9</td>\n",
       "      <td>Yoghurt</td>\n",
       "      <td>10000</td>\n",
       "      <td>Lingga</td>\n",
       "      <td>Lingga</td>\n",
       "      <td>Modern Trade</td>\n",
       "      <td>-3,654703</td>\n",
       "      <td>128,190643</td>\n",
       "      <td>36</td>\n",
       "      <td>0</td>\n",
       "      <td>Married</td>\n",
       "      <td>10,53</td>\n",
       "    </tr>\n",
       "    <tr>\n",
       "      <th>2</th>\n",
       "      <td>TR89012</td>\n",
       "      <td>328</td>\n",
       "      <td>25/03/2022</td>\n",
       "      <td>P5</td>\n",
       "      <td>4200</td>\n",
       "      <td>5</td>\n",
       "      <td>21000</td>\n",
       "      <td>6</td>\n",
       "      <td>Thai Tea</td>\n",
       "      <td>4200</td>\n",
       "      <td>Lingga</td>\n",
       "      <td>Lingga</td>\n",
       "      <td>Modern Trade</td>\n",
       "      <td>-5,135399</td>\n",
       "      <td>119,42379</td>\n",
       "      <td>36</td>\n",
       "      <td>0</td>\n",
       "      <td>Married</td>\n",
       "      <td>10,53</td>\n",
       "    </tr>\n",
       "    <tr>\n",
       "      <th>3</th>\n",
       "      <td>TR67395</td>\n",
       "      <td>328</td>\n",
       "      <td>22/01/2022</td>\n",
       "      <td>P8</td>\n",
       "      <td>16000</td>\n",
       "      <td>3</td>\n",
       "      <td>48000</td>\n",
       "      <td>11</td>\n",
       "      <td>Oat</td>\n",
       "      <td>16000</td>\n",
       "      <td>Sinar Harapan</td>\n",
       "      <td>Prestasi</td>\n",
       "      <td>General Trade</td>\n",
       "      <td>0,533505</td>\n",
       "      <td>101,447403</td>\n",
       "      <td>36</td>\n",
       "      <td>0</td>\n",
       "      <td>Married</td>\n",
       "      <td>10,53</td>\n",
       "    </tr>\n",
       "    <tr>\n",
       "      <th>4</th>\n",
       "      <td>TR45738</td>\n",
       "      <td>328</td>\n",
       "      <td>29/12/2022</td>\n",
       "      <td>P2</td>\n",
       "      <td>3200</td>\n",
       "      <td>3</td>\n",
       "      <td>9600</td>\n",
       "      <td>11</td>\n",
       "      <td>Ginger Candy</td>\n",
       "      <td>3200</td>\n",
       "      <td>Sinar Harapan</td>\n",
       "      <td>Prestasi</td>\n",
       "      <td>General Trade</td>\n",
       "      <td>0,533505</td>\n",
       "      <td>101,447403</td>\n",
       "      <td>36</td>\n",
       "      <td>0</td>\n",
       "      <td>Married</td>\n",
       "      <td>10,53</td>\n",
       "    </tr>\n",
       "  </tbody>\n",
       "</table>\n",
       "</div>"
      ],
      "text/plain": [
       "  transactionid  customerid        date productid  price_customers  qty  \\\n",
       "0       TR11369         328  01/01/2022        P3             7500    4   \n",
       "1       TR56601         328  24/12/2022        P9            10000    1   \n",
       "2       TR89012         328  25/03/2022        P5             4200    5   \n",
       "3       TR67395         328  22/01/2022        P8            16000    3   \n",
       "4       TR45738         328  29/12/2022        P2             3200    3   \n",
       "\n",
       "   totalamount  storeid   product_name  price_product       storename  \\\n",
       "0        30000       12       Crackers           7500  Prestasi Utama   \n",
       "1        10000        9        Yoghurt          10000          Lingga   \n",
       "2        21000        6       Thai Tea           4200          Lingga   \n",
       "3        48000       11            Oat          16000   Sinar Harapan   \n",
       "4         9600       11  Ginger Candy            3200   Sinar Harapan   \n",
       "\n",
       "  groupstore           type   latitude   longitude  age  gender  \\\n",
       "0   Prestasi  General Trade  -2,990934  104,756554   36       0   \n",
       "1     Lingga   Modern Trade  -3,654703  128,190643   36       0   \n",
       "2     Lingga   Modern Trade  -5,135399   119,42379   36       0   \n",
       "3   Prestasi  General Trade   0,533505  101,447403   36       0   \n",
       "4   Prestasi  General Trade   0,533505  101,447403   36       0   \n",
       "\n",
       "  marital_status income  \n",
       "0        Married  10,53  \n",
       "1        Married  10,53  \n",
       "2        Married  10,53  \n",
       "3        Married  10,53  \n",
       "4        Married  10,53  "
      ]
     },
     "execution_count": 12,
     "metadata": {},
     "output_type": "execute_result"
    }
   ],
   "source": [
    "for column in df.columns:\n",
    "    df.rename(columns ={column: column.lower()}, inplace = True)\n",
    "df.rename(columns = {'marital status': 'marital_status'}, inplace = True)\n",
    "df.rename(columns = {'product name': 'product_name'}, inplace = True)\n",
    "df.head()"
   ]
  },
  {
   "cell_type": "markdown",
   "id": "53fe79de-69d7-4a17-bc8f-0b9a3f1bedf1",
   "metadata": {},
   "source": [
    "### **📌 Change Data Type** ###"
   ]
  },
  {
   "cell_type": "code",
   "execution_count": 13,
   "id": "4c735a9d-f498-492d-be19-a34a33de1f79",
   "metadata": {},
   "outputs": [
    {
     "data": {
      "text/html": [
       "<div>\n",
       "<style scoped>\n",
       "    .dataframe tbody tr th:only-of-type {\n",
       "        vertical-align: middle;\n",
       "    }\n",
       "\n",
       "    .dataframe tbody tr th {\n",
       "        vertical-align: top;\n",
       "    }\n",
       "\n",
       "    .dataframe thead th {\n",
       "        text-align: right;\n",
       "    }\n",
       "</style>\n",
       "<table border=\"1\" class=\"dataframe\">\n",
       "  <thead>\n",
       "    <tr style=\"text-align: right;\">\n",
       "      <th></th>\n",
       "      <th>transactionid</th>\n",
       "      <th>customerid</th>\n",
       "      <th>date</th>\n",
       "      <th>productid</th>\n",
       "      <th>price_customers</th>\n",
       "      <th>qty</th>\n",
       "      <th>totalamount</th>\n",
       "      <th>storeid</th>\n",
       "      <th>product_name</th>\n",
       "      <th>price_product</th>\n",
       "      <th>storename</th>\n",
       "      <th>groupstore</th>\n",
       "      <th>type</th>\n",
       "      <th>latitude</th>\n",
       "      <th>longitude</th>\n",
       "      <th>age</th>\n",
       "      <th>gender</th>\n",
       "      <th>marital_status</th>\n",
       "      <th>income</th>\n",
       "    </tr>\n",
       "  </thead>\n",
       "  <tbody>\n",
       "    <tr>\n",
       "      <th>0</th>\n",
       "      <td>TR11369</td>\n",
       "      <td>328</td>\n",
       "      <td>2022-01-01</td>\n",
       "      <td>P3</td>\n",
       "      <td>7500</td>\n",
       "      <td>4</td>\n",
       "      <td>30000</td>\n",
       "      <td>12</td>\n",
       "      <td>Crackers</td>\n",
       "      <td>7500</td>\n",
       "      <td>Prestasi Utama</td>\n",
       "      <td>Prestasi</td>\n",
       "      <td>General Trade</td>\n",
       "      <td>-2,990934</td>\n",
       "      <td>104,756554</td>\n",
       "      <td>36</td>\n",
       "      <td>0</td>\n",
       "      <td>Married</td>\n",
       "      <td>10,53</td>\n",
       "    </tr>\n",
       "    <tr>\n",
       "      <th>1</th>\n",
       "      <td>TR56601</td>\n",
       "      <td>328</td>\n",
       "      <td>2022-12-24</td>\n",
       "      <td>P9</td>\n",
       "      <td>10000</td>\n",
       "      <td>1</td>\n",
       "      <td>10000</td>\n",
       "      <td>9</td>\n",
       "      <td>Yoghurt</td>\n",
       "      <td>10000</td>\n",
       "      <td>Lingga</td>\n",
       "      <td>Lingga</td>\n",
       "      <td>Modern Trade</td>\n",
       "      <td>-3,654703</td>\n",
       "      <td>128,190643</td>\n",
       "      <td>36</td>\n",
       "      <td>0</td>\n",
       "      <td>Married</td>\n",
       "      <td>10,53</td>\n",
       "    </tr>\n",
       "    <tr>\n",
       "      <th>2</th>\n",
       "      <td>TR89012</td>\n",
       "      <td>328</td>\n",
       "      <td>2022-03-25</td>\n",
       "      <td>P5</td>\n",
       "      <td>4200</td>\n",
       "      <td>5</td>\n",
       "      <td>21000</td>\n",
       "      <td>6</td>\n",
       "      <td>Thai Tea</td>\n",
       "      <td>4200</td>\n",
       "      <td>Lingga</td>\n",
       "      <td>Lingga</td>\n",
       "      <td>Modern Trade</td>\n",
       "      <td>-5,135399</td>\n",
       "      <td>119,42379</td>\n",
       "      <td>36</td>\n",
       "      <td>0</td>\n",
       "      <td>Married</td>\n",
       "      <td>10,53</td>\n",
       "    </tr>\n",
       "    <tr>\n",
       "      <th>3</th>\n",
       "      <td>TR67395</td>\n",
       "      <td>328</td>\n",
       "      <td>2022-01-22</td>\n",
       "      <td>P8</td>\n",
       "      <td>16000</td>\n",
       "      <td>3</td>\n",
       "      <td>48000</td>\n",
       "      <td>11</td>\n",
       "      <td>Oat</td>\n",
       "      <td>16000</td>\n",
       "      <td>Sinar Harapan</td>\n",
       "      <td>Prestasi</td>\n",
       "      <td>General Trade</td>\n",
       "      <td>0,533505</td>\n",
       "      <td>101,447403</td>\n",
       "      <td>36</td>\n",
       "      <td>0</td>\n",
       "      <td>Married</td>\n",
       "      <td>10,53</td>\n",
       "    </tr>\n",
       "    <tr>\n",
       "      <th>4</th>\n",
       "      <td>TR45738</td>\n",
       "      <td>328</td>\n",
       "      <td>2022-12-29</td>\n",
       "      <td>P2</td>\n",
       "      <td>3200</td>\n",
       "      <td>3</td>\n",
       "      <td>9600</td>\n",
       "      <td>11</td>\n",
       "      <td>Ginger Candy</td>\n",
       "      <td>3200</td>\n",
       "      <td>Sinar Harapan</td>\n",
       "      <td>Prestasi</td>\n",
       "      <td>General Trade</td>\n",
       "      <td>0,533505</td>\n",
       "      <td>101,447403</td>\n",
       "      <td>36</td>\n",
       "      <td>0</td>\n",
       "      <td>Married</td>\n",
       "      <td>10,53</td>\n",
       "    </tr>\n",
       "  </tbody>\n",
       "</table>\n",
       "</div>"
      ],
      "text/plain": [
       "  transactionid  customerid       date productid  price_customers  qty  \\\n",
       "0       TR11369         328 2022-01-01        P3             7500    4   \n",
       "1       TR56601         328 2022-12-24        P9            10000    1   \n",
       "2       TR89012         328 2022-03-25        P5             4200    5   \n",
       "3       TR67395         328 2022-01-22        P8            16000    3   \n",
       "4       TR45738         328 2022-12-29        P2             3200    3   \n",
       "\n",
       "   totalamount  storeid   product_name  price_product       storename  \\\n",
       "0        30000       12       Crackers           7500  Prestasi Utama   \n",
       "1        10000        9        Yoghurt          10000          Lingga   \n",
       "2        21000        6       Thai Tea           4200          Lingga   \n",
       "3        48000       11            Oat          16000   Sinar Harapan   \n",
       "4         9600       11  Ginger Candy            3200   Sinar Harapan   \n",
       "\n",
       "  groupstore           type   latitude   longitude  age  gender  \\\n",
       "0   Prestasi  General Trade  -2,990934  104,756554   36       0   \n",
       "1     Lingga   Modern Trade  -3,654703  128,190643   36       0   \n",
       "2     Lingga   Modern Trade  -5,135399   119,42379   36       0   \n",
       "3   Prestasi  General Trade   0,533505  101,447403   36       0   \n",
       "4   Prestasi  General Trade   0,533505  101,447403   36       0   \n",
       "\n",
       "  marital_status income  \n",
       "0        Married  10,53  \n",
       "1        Married  10,53  \n",
       "2        Married  10,53  \n",
       "3        Married  10,53  \n",
       "4        Married  10,53  "
      ]
     },
     "execution_count": 13,
     "metadata": {},
     "output_type": "execute_result"
    }
   ],
   "source": [
    "df['date'] = pd.to_datetime(df['date'],format='%d/%m/%Y', infer_datetime_format=True)\n",
    "df.head()"
   ]
  },
  {
   "cell_type": "markdown",
   "id": "25bb54bb-0abf-431b-99e2-de1761d838fa",
   "metadata": {},
   "source": [
    "### **📌 Data Imputation** ###\n",
    "\n",
    "After check Missing Value, there is 44 rows are Null in `marital_status`, we need do Data Imputation to fill Null Values"
   ]
  },
  {
   "cell_type": "code",
   "execution_count": 14,
   "id": "2ed29d16-1cb5-4371-87b7-568e85e04ed6",
   "metadata": {},
   "outputs": [
    {
     "data": {
      "text/plain": [
       "transactionid      0\n",
       "customerid         0\n",
       "date               0\n",
       "productid          0\n",
       "price_customers    0\n",
       "qty                0\n",
       "totalamount        0\n",
       "storeid            0\n",
       "product_name       0\n",
       "price_product      0\n",
       "storename          0\n",
       "groupstore         0\n",
       "type               0\n",
       "latitude           0\n",
       "longitude          0\n",
       "age                0\n",
       "gender             0\n",
       "marital_status     0\n",
       "income             0\n",
       "dtype: int64"
      ]
     },
     "execution_count": 14,
     "metadata": {},
     "output_type": "execute_result"
    }
   ],
   "source": [
    "# fill null values with mode method\n",
    "mode_marital_status = df['marital_status'].mode()[0]\n",
    "df['marital_status'].fillna(mode_marital_status, inplace = True)\n",
    "df.isna().sum()"
   ]
  },
  {
   "cell_type": "markdown",
   "id": "587ee18f-d37b-483d-b66f-c7dc3e686957",
   "metadata": {},
   "source": [
    "### **📌 Create Forecasting Data for Modeling** ###"
   ]
  },
  {
   "cell_type": "code",
   "execution_count": 15,
   "id": "4c5b5b1f-6d25-4de3-ba38-8d457fa0da22",
   "metadata": {},
   "outputs": [
    {
     "data": {
      "text/html": [
       "<div>\n",
       "<style scoped>\n",
       "    .dataframe tbody tr th:only-of-type {\n",
       "        vertical-align: middle;\n",
       "    }\n",
       "\n",
       "    .dataframe tbody tr th {\n",
       "        vertical-align: top;\n",
       "    }\n",
       "\n",
       "    .dataframe thead th {\n",
       "        text-align: right;\n",
       "    }\n",
       "</style>\n",
       "<table border=\"1\" class=\"dataframe\">\n",
       "  <thead>\n",
       "    <tr style=\"text-align: right;\">\n",
       "      <th></th>\n",
       "      <th>qty</th>\n",
       "    </tr>\n",
       "    <tr>\n",
       "      <th>date</th>\n",
       "      <th></th>\n",
       "    </tr>\n",
       "  </thead>\n",
       "  <tbody>\n",
       "    <tr>\n",
       "      <th>2022-01-01</th>\n",
       "      <td>49</td>\n",
       "    </tr>\n",
       "    <tr>\n",
       "      <th>2022-01-02</th>\n",
       "      <td>59</td>\n",
       "    </tr>\n",
       "    <tr>\n",
       "      <th>2022-01-03</th>\n",
       "      <td>63</td>\n",
       "    </tr>\n",
       "    <tr>\n",
       "      <th>2022-01-04</th>\n",
       "      <td>45</td>\n",
       "    </tr>\n",
       "    <tr>\n",
       "      <th>2022-01-05</th>\n",
       "      <td>30</td>\n",
       "    </tr>\n",
       "  </tbody>\n",
       "</table>\n",
       "</div>"
      ],
      "text/plain": [
       "            qty\n",
       "date           \n",
       "2022-01-01   49\n",
       "2022-01-02   59\n",
       "2022-01-03   63\n",
       "2022-01-04   45\n",
       "2022-01-05   30"
      ]
     },
     "execution_count": 15,
     "metadata": {},
     "output_type": "execute_result"
    }
   ],
   "source": [
    "# make a new dataframe consisting of forecast dataframe\n",
    "df_forecast = df[['date','qty']]\n",
    "df_forecast = df_forecast.groupby('date')[['qty']].sum()\n",
    "df_forecast.head()"
   ]
  },
  {
   "cell_type": "markdown",
   "id": "fa0dc28f-04aa-4571-b873-be0f8af2d409",
   "metadata": {},
   "source": [
    "## **💡 Exploratory Data Analysis** ##"
   ]
  },
  {
   "cell_type": "markdown",
   "id": "319a777e-abe7-4a1f-843c-f62c1b674837",
   "metadata": {},
   "source": [
    "### **📌 Check Quantity based on Date** ###"
   ]
  },
  {
   "cell_type": "code",
   "execution_count": 16,
   "id": "3ede1b61-552c-49eb-9fb0-182b3908ea8d",
   "metadata": {},
   "outputs": [
    {
     "data": {
      "image/png": "[encoded data removed]",
      "text/plain": [
       "<Figure size 432x288 with 1 Axes>"
      ]
     },
     "metadata": {
      "needs_background": "light"
     },
     "output_type": "display_data"
    }
   ],
   "source": [
    "# Check the quantity based on date\n",
    "df_forecast.plot()\n",
    "plt.show()"
   ]
  },
  {
   "cell_type": "code",
   "execution_count": 17,
   "id": "afca396a-a9a5-4cde-b6d2-306393091d10",
   "metadata": {},
   "outputs": [
    {
     "data": {
      "image/png": "[encoded data removed]",
      "text/plain": [
       "<Figure size 720x432 with 1 Axes>"
      ]
     },
     "metadata": {
      "needs_background": "light"
     },
     "output_type": "display_data"
    },
    {
     "data": {
      "image/png": "[encoded data removed]",
      "text/plain": [
       "<Figure size 720x432 with 1 Axes>"
      ]
     },
     "metadata": {
      "needs_background": "light"
     },
     "output_type": "display_data"
    }
   ],
   "source": [
    "# Plot the raw data\n",
    "plt.figure(figsize=(10, 6))\n",
    "plt.plot(df_forecast.index, df_forecast['qty'])\n",
    "plt.xlabel('Date')\n",
    "plt.ylabel('Quantity')\n",
    "plt.title('Raw Data')\n",
    "\n",
    "# Compute rolling variance and plot\n",
    "window = 30  # Adjust the window size as needed\n",
    "rolling_var = df_forecast['qty'].rolling(window=window).var()\n",
    "plt.figure(figsize=(10, 6))\n",
    "plt.plot(df_forecast.index, rolling_var)\n",
    "plt.xlabel('Date')\n",
    "plt.ylabel('Rolling Variance')\n",
    "plt.title(f'Rolling Variance (Window={window})')\n",
    "\n",
    "plt.show()"
   ]
  },
  {
   "cell_type": "markdown",
   "id": "298a14ed-c634-4417-95a0-2acc49bdc149",
   "metadata": {},
   "source": [
    "### **📌 Check ACF and PACF** ###"
   ]
  },
  {
   "cell_type": "code",
   "execution_count": 18,
   "id": "699978d6-9baf-445f-ba7f-0d26905ae6a5",
   "metadata": {},
   "outputs": [
    {
     "data": {
      "image/png": "[encoded data removed]",
      "text/plain": [
       "<Figure size 432x288 with 1 Axes>"
      ]
     },
     "metadata": {
      "needs_background": "light"
     },
     "output_type": "display_data"
    },
    {
     "data": {
      "image/png": "[encoded data removed]",
      "text/plain": [
       "<Figure size 432x288 with 1 Axes>"
      ]
     },
     "metadata": {
      "needs_background": "light"
     },
     "output_type": "display_data"
    }
   ],
   "source": [
    "# Check ACF using default method\n",
    "plot_acf(df_forecast, lags=30)\n",
    "plt.xlabel('Lag')\n",
    "plt.ylabel('Autocorrelation')\n",
    "plt.title('Autocorrelation Function (ACF)')\n",
    "plt.show()\n",
    "\n",
    "# Check PACF using ywm method\n",
    "plot_pacf(df_forecast, lags=30,  method='ywm')\n",
    "plt.xlabel('Lag')\n",
    "plt.ylabel('Partial Autocorrelation')\n",
    "plt.title('Partial Autocorrelation Function (PACF)')\n",
    "plt.show()"
   ]
  },
  {
   "cell_type": "markdown",
   "id": "b7fb2633-aa01-4a92-b3d9-23a4e1affef4",
   "metadata": {},
   "source": [
    "### **📌 Check Data Stationary** ###"
   ]
  },
  {
   "cell_type": "code",
   "execution_count": 19,
   "id": "9e4404c4-e865-4d1c-ae93-7dc91f78e14b",
   "metadata": {},
   "outputs": [
    {
     "name": "stdout",
     "output_type": "stream",
     "text": [
      "ADF Statistics :  -19.448086319449082\n",
      "P Value :  0.0\n",
      "Critical Values:\n",
      "   1%, -3.4484434475193777\n",
      "Critical Values:\n",
      "   5%, -2.869513170510808\n",
      "Critical Values:\n",
      "   10%, -2.571017574266393\n"
     ]
    }
   ],
   "source": [
    "# Check data stationary\n",
    "df_test = adfuller(df_forecast)\n",
    "adf = df_test[0]\n",
    "pval = df_test[1]\n",
    "\n",
    "print('ADF Statistics : ', adf)\n",
    "print('P Value : ', pval)\n",
    "for key, value in df_test[4].items():\n",
    "    print('Critical Values:')\n",
    "    print(f'   {key}, {value}')"
   ]
  },
  {
   "cell_type": "markdown",
   "id": "7af0b9da-9bd5-4b72-a980-1c0a113998fd",
   "metadata": {},
   "source": [
    "## **💡 Split Data Training and Testing** ##"
   ]
  },
  {
   "cell_type": "code",
   "execution_count": 20,
   "id": "fe9d2f33-84b7-42a6-be1b-9a34824716b6",
   "metadata": {},
   "outputs": [
    {
     "data": {
      "text/plain": [
       "365"
      ]
     },
     "execution_count": 20,
     "metadata": {},
     "output_type": "execute_result"
    }
   ],
   "source": [
    "df_forecast.shape[0]"
   ]
  },
  {
   "cell_type": "code",
   "execution_count": 21,
   "id": "e47c1afd-d4d2-47b4-b9bb-853f5528c189",
   "metadata": {},
   "outputs": [
    {
     "name": "stdout",
     "output_type": "stream",
     "text": [
      "Data Training: (334, 1)\n",
      "Data Testing: (31, 1)\n"
     ]
    }
   ],
   "source": [
    "# Split Data Training and Testing\n",
    "df_train = df_forecast.iloc[:-31]\n",
    "df_test = df_forecast.iloc[-31:]\n",
    "\n",
    "# Check the shapes of the train and test sets\n",
    "print(\"Data Training:\", df_train.shape)\n",
    "print(\"Data Testing:\", df_test.shape)"
   ]
  },
  {
   "cell_type": "markdown",
   "id": "7d084b91-63d9-465a-b0b5-0f8658a40e4c",
   "metadata": {},
   "source": [
    "## **💡 ARIMA Model Prediction** ##"
   ]
  },
  {
   "cell_type": "markdown",
   "id": "35f802a5-608e-4f40-b86d-d96d1d9df4c2",
   "metadata": {},
   "source": [
    "### **📌 Auto ARIMA Model Best Suit** ###"
   ]
  },
  {
   "cell_type": "code",
   "execution_count": 22,
   "id": "311a0c8a-2ab6-4176-a620-3e2e9555b60b",
   "metadata": {},
   "outputs": [
    {
     "name": "stdout",
     "output_type": "stream",
     "text": [
      " ARIMA(0,1,0)(0,0,0)[0] intercept   : AIC=3067.753, Time=0.03 sec\n",
      " ARIMA(0,1,1)(0,0,0)[0] intercept   : AIC=inf, Time=0.19 sec\n",
      " ARIMA(0,1,2)(0,0,0)[0] intercept   : AIC=inf, Time=0.31 sec\n",
      " ARIMA(0,1,3)(0,0,0)[0] intercept   : AIC=inf, Time=0.54 sec\n",
      " ARIMA(0,1,4)(0,0,0)[0] intercept   : AIC=inf, Time=0.68 sec\n",
      " ARIMA(0,1,5)(0,0,0)[0] intercept   : AIC=inf, Time=0.76 sec\n",
      " ARIMA(1,1,0)(0,0,0)[0] intercept   : AIC=2969.103, Time=0.05 sec\n",
      " ARIMA(1,1,1)(0,0,0)[0] intercept   : AIC=inf, Time=0.32 sec\n",
      " ARIMA(1,1,2)(0,0,0)[0] intercept   : AIC=inf, Time=0.47 sec\n",
      " ARIMA(1,1,3)(0,0,0)[0] intercept   : AIC=inf, Time=0.63 sec\n",
      " ARIMA(1,1,4)(0,0,0)[0] intercept   : AIC=inf, Time=0.81 sec\n",
      " ARIMA(2,1,0)(0,0,0)[0] intercept   : AIC=2939.868, Time=0.12 sec\n",
      " ARIMA(2,1,1)(0,0,0)[0] intercept   : AIC=inf, Time=0.39 sec\n",
      " ARIMA(2,1,2)(0,0,0)[0] intercept   : AIC=inf, Time=0.49 sec\n",
      " ARIMA(2,1,3)(0,0,0)[0] intercept   : AIC=inf, Time=0.75 sec\n",
      " ARIMA(3,1,0)(0,0,0)[0] intercept   : AIC=2897.396, Time=0.11 sec\n",
      " ARIMA(3,1,1)(0,0,0)[0] intercept   : AIC=inf, Time=0.46 sec\n",
      " ARIMA(3,1,2)(0,0,0)[0] intercept   : AIC=inf, Time=0.58 sec\n",
      " ARIMA(4,1,0)(0,0,0)[0] intercept   : AIC=2889.363, Time=0.22 sec\n",
      " ARIMA(4,1,1)(0,0,0)[0] intercept   : AIC=inf, Time=0.66 sec\n",
      " ARIMA(5,1,0)(0,0,0)[0] intercept   : AIC=2878.729, Time=0.22 sec\n",
      "\n",
      "Best model:  ARIMA(5,1,0)(0,0,0)[0] intercept\n",
      "Total fit time: 8.824 seconds\n"
     ]
    },
    {
     "data": {
      "text/html": [
       "<table class=\"simpletable\">\n",
       "<caption>SARIMAX Results</caption>\n",
       "<tr>\n",
       "  <th>Dep. Variable:</th>           <td>y</td>        <th>  No. Observations:  </th>    <td>334</td>   \n",
       "</tr>\n",
       "<tr>\n",
       "  <th>Model:</th>           <td>SARIMAX(5, 1, 0)</td> <th>  Log Likelihood     </th> <td>-1432.364</td>\n",
       "</tr>\n",
       "<tr>\n",
       "  <th>Date:</th>            <td>Mon, 28 Aug 2023</td> <th>  AIC                </th> <td>2878.729</td> \n",
       "</tr>\n",
       "<tr>\n",
       "  <th>Time:</th>                <td>16:38:11</td>     <th>  BIC                </th> <td>2905.386</td> \n",
       "</tr>\n",
       "<tr>\n",
       "  <th>Sample:</th>             <td>01-01-2022</td>    <th>  HQIC               </th> <td>2889.358</td> \n",
       "</tr>\n",
       "<tr>\n",
       "  <th></th>                   <td>- 11-30-2022</td>   <th>                     </th>     <td> </td>    \n",
       "</tr>\n",
       "<tr>\n",
       "  <th>Covariance Type:</th>        <td>opg</td>       <th>                     </th>     <td> </td>    \n",
       "</tr>\n",
       "</table>\n",
       "<table class=\"simpletable\">\n",
       "<tr>\n",
       "      <td></td>         <th>coef</th>     <th>std err</th>      <th>z</th>      <th>P>|z|</th>  <th>[0.025</th>    <th>0.975]</th>  \n",
       "</tr>\n",
       "<tr>\n",
       "  <th>intercept</th> <td>   -0.0361</td> <td>    1.012</td> <td>   -0.036</td> <td> 0.972</td> <td>   -2.020</td> <td>    1.948</td>\n",
       "</tr>\n",
       "<tr>\n",
       "  <th>ar.L1</th>     <td>   -0.8641</td> <td>    0.056</td> <td>  -15.420</td> <td> 0.000</td> <td>   -0.974</td> <td>   -0.754</td>\n",
       "</tr>\n",
       "<tr>\n",
       "  <th>ar.L2</th>     <td>   -0.7198</td> <td>    0.068</td> <td>  -10.629</td> <td> 0.000</td> <td>   -0.852</td> <td>   -0.587</td>\n",
       "</tr>\n",
       "<tr>\n",
       "  <th>ar.L3</th>     <td>   -0.6062</td> <td>    0.064</td> <td>   -9.450</td> <td> 0.000</td> <td>   -0.732</td> <td>   -0.480</td>\n",
       "</tr>\n",
       "<tr>\n",
       "  <th>ar.L4</th>     <td>   -0.3322</td> <td>    0.059</td> <td>   -5.629</td> <td> 0.000</td> <td>   -0.448</td> <td>   -0.217</td>\n",
       "</tr>\n",
       "<tr>\n",
       "  <th>ar.L5</th>     <td>   -0.1927</td> <td>    0.053</td> <td>   -3.668</td> <td> 0.000</td> <td>   -0.296</td> <td>   -0.090</td>\n",
       "</tr>\n",
       "<tr>\n",
       "  <th>sigma2</th>    <td>  317.7588</td> <td>   24.003</td> <td>   13.238</td> <td> 0.000</td> <td>  270.714</td> <td>  364.804</td>\n",
       "</tr>\n",
       "</table>\n",
       "<table class=\"simpletable\">\n",
       "<tr>\n",
       "  <th>Ljung-Box (L1) (Q):</th>     <td>0.28</td> <th>  Jarque-Bera (JB):  </th> <td>4.88</td>\n",
       "</tr>\n",
       "<tr>\n",
       "  <th>Prob(Q):</th>                <td>0.59</td> <th>  Prob(JB):          </th> <td>0.09</td>\n",
       "</tr>\n",
       "<tr>\n",
       "  <th>Heteroskedasticity (H):</th> <td>0.76</td> <th>  Skew:              </th> <td>0.22</td>\n",
       "</tr>\n",
       "<tr>\n",
       "  <th>Prob(H) (two-sided):</th>    <td>0.15</td> <th>  Kurtosis:          </th> <td>3.41</td>\n",
       "</tr>\n",
       "</table><br/><br/>Warnings:<br/>[1] Covariance matrix calculated using the outer product of gradients (complex-step)."
      ],
      "text/plain": [
       "<class 'statsmodels.iolib.summary.Summary'>\n",
       "\"\"\"\n",
       "                               SARIMAX Results                                \n",
       "==============================================================================\n",
       "Dep. Variable:                      y   No. Observations:                  334\n",
       "Model:               SARIMAX(5, 1, 0)   Log Likelihood               -1432.364\n",
       "Date:                Mon, 28 Aug 2023   AIC                           2878.729\n",
       "Time:                        16:38:11   BIC                           2905.386\n",
       "Sample:                    01-01-2022   HQIC                          2889.358\n",
       "                         - 11-30-2022                                         \n",
       "Covariance Type:                  opg                                         \n",
       "==============================================================================\n",
       "                 coef    std err          z      P>|z|      [0.025      0.975]\n",
       "------------------------------------------------------------------------------\n",
       "intercept     -0.0361      1.012     -0.036      0.972      -2.020       1.948\n",
       "ar.L1         -0.8641      0.056    -15.420      0.000      -0.974      -0.754\n",
       "ar.L2         -0.7198      0.068    -10.629      0.000      -0.852      -0.587\n",
       "ar.L3         -0.6062      0.064     -9.450      0.000      -0.732      -0.480\n",
       "ar.L4         -0.3322      0.059     -5.629      0.000      -0.448      -0.217\n",
       "ar.L5         -0.1927      0.053     -3.668      0.000      -0.296      -0.090\n",
       "sigma2       317.7588     24.003     13.238      0.000     270.714     364.804\n",
       "===================================================================================\n",
       "Ljung-Box (L1) (Q):                   0.28   Jarque-Bera (JB):                 4.88\n",
       "Prob(Q):                              0.59   Prob(JB):                         0.09\n",
       "Heteroskedasticity (H):               0.76   Skew:                             0.22\n",
       "Prob(H) (two-sided):                  0.15   Kurtosis:                         3.41\n",
       "===================================================================================\n",
       "\n",
       "Warnings:\n",
       "[1] Covariance matrix calculated using the outer product of gradients (complex-step).\n",
       "\"\"\""
      ]
     },
     "execution_count": 22,
     "metadata": {},
     "output_type": "execute_result"
    }
   ],
   "source": [
    "# check Best Model using auto ARIMA\n",
    "auto_arima_model = pm.auto_arima(df_train['qty'],\n",
    "                                 seasonal=False,\n",
    "                                 stepwise=False,\n",
    "                                 suppress_warnings=True,\n",
    "                                 trace = True)\n",
    "auto_arima_model.summary()"
   ]
  },
  {
   "cell_type": "markdown",
   "id": "ef7445cb-81b4-4519-bdcd-b0305888ddca",
   "metadata": {},
   "source": [
    "### **📌 Training Model** ###"
   ]
  },
  {
   "cell_type": "code",
   "execution_count": 23,
   "id": "21605567-369a-4737-a0b7-1020c06a4857",
   "metadata": {},
   "outputs": [],
   "source": [
    "import warnings\n",
    "warnings.filterwarnings(\"ignore\")"
   ]
  },
  {
   "cell_type": "code",
   "execution_count": 24,
   "id": "09178989-df1e-4223-9bfc-6448d077415b",
   "metadata": {},
   "outputs": [
    {
     "name": "stdout",
     "output_type": "stream",
     "text": [
      "                               SARIMAX Results                                \n",
      "==============================================================================\n",
      "Dep. Variable:                    qty   No. Observations:                  334\n",
      "Model:                 ARIMA(5, 1, 0)   Log Likelihood               -1432.365\n",
      "Date:                Mon, 28 Aug 2023   AIC                           2876.730\n",
      "Time:                        16:38:11   BIC                           2899.579\n",
      "Sample:                    01-01-2022   HQIC                          2885.841\n",
      "                         - 11-30-2022                                         \n",
      "Covariance Type:                  opg                                         \n",
      "==============================================================================\n",
      "                 coef    std err          z      P>|z|      [0.025      0.975]\n",
      "------------------------------------------------------------------------------\n",
      "ar.L1         -0.8641      0.055    -15.623      0.000      -0.972      -0.756\n",
      "ar.L2         -0.7197      0.068    -10.630      0.000      -0.852      -0.587\n",
      "ar.L3         -0.6062      0.064     -9.476      0.000      -0.732      -0.481\n",
      "ar.L4         -0.3322      0.059     -5.639      0.000      -0.448      -0.217\n",
      "ar.L5         -0.1927      0.053     -3.670      0.000      -0.296      -0.090\n",
      "sigma2       317.7604     23.723     13.394      0.000     271.263     364.257\n",
      "===================================================================================\n",
      "Ljung-Box (L1) (Q):                   0.28   Jarque-Bera (JB):                 4.88\n",
      "Prob(Q):                              0.59   Prob(JB):                         0.09\n",
      "Heteroskedasticity (H):               0.76   Skew:                             0.22\n",
      "Prob(H) (two-sided):                  0.15   Kurtosis:                         3.41\n",
      "===================================================================================\n",
      "\n",
      "Warnings:\n",
      "[1] Covariance matrix calculated using the outer product of gradients (complex-step).\n"
     ]
    }
   ],
   "source": [
    "# fit the ARIMA model using best model from auto arima\n",
    "best_order = auto_arima_model.order\n",
    "model = ARIMA (df_train, order=best_order)\n",
    "arima_model = model.fit()\n",
    "print(arima_model.summary())"
   ]
  },
  {
   "cell_type": "code",
   "execution_count": 25,
   "id": "5ae8b297-771d-4018-8c6d-2fe7959d5a57",
   "metadata": {},
   "outputs": [
    {
     "data": {
      "image/png": "[encoded data removed]",
      "text/plain": [
       "<Figure size 720x432 with 1 Axes>"
      ]
     },
     "metadata": {
      "needs_background": "light"
     },
     "output_type": "display_data"
    }
   ],
   "source": [
    "# Create new dataframe for forecasting\n",
    "forecast_period = df_test.shape[0]\n",
    "forecast = arima_model.forecast(steps=forecast_period)\n",
    "forecast_index = pd.date_range(start=df_test.index[-1], periods=forecast_period)\n",
    "df_forecast = pd.DataFrame(forecast, index=forecast_index, columns=['qty'])\n",
    "\n",
    "# Plot and Visualize Predicted Values for Quantity Sold\n",
    "plt.figure(figsize=(10, 6))\n",
    "plt.plot(df_train.index, df_train['qty'], label='Data Training')\n",
    "plt.plot(df_test.index, df_test['qty'], label='Data Actual/Testing')\n",
    "plt.plot(df_forecast.index, forecast, label='Predicted Values')\n",
    "plt.title('Quantity Sold Forecasting')\n",
    "plt.legend()\n",
    "plt.show()"
   ]
  },
  {
   "cell_type": "markdown",
   "id": "ad204cf1-2972-4998-9e52-f5477358e6cf",
   "metadata": {},
   "source": [
    "### **📌 Model Evaluation** ###"
   ]
  },
  {
   "cell_type": "code",
   "execution_count": 26,
   "id": "93e1dfa0-e262-4c7a-8450-510f7958a27f",
   "metadata": {},
   "outputs": [
    {
     "name": "stdout",
     "output_type": "stream",
     "text": [
      "MAE: 12.755126788053463\n",
      "MAPE: 32.48%\n",
      "RMSE: 15.053042797132266\n"
     ]
    }
   ],
   "source": [
    "mae = mean_absolute_error(df_test['qty'], forecast)\n",
    "mape = mean_absolute_percentage_error(df_test['qty'], forecast) * 100\n",
    "rmse = mean_squared_error(df_test['qty'], forecast, squared=False)\n",
    "\n",
    "print(f\"MAE: {mae}\")\n",
    "print(f\"MAPE: {mape:.2f}%\")\n",
    "print(f\"RMSE: {rmse}\")"
   ]
  },
  {
   "cell_type": "markdown",
   "id": "2e021e5f-c81a-4315-b49e-bc12c0c9be4c",
   "metadata": {},
   "source": [
    "## **💡 Business Insight** ##"
   ]
  },
  {
   "cell_type": "markdown",
   "id": "7068b7fb-e574-4dcd-8a96-875526cec909",
   "metadata": {},
   "source": [
    "### **📌 Daily Quantity Products Sold Forecasting** ###"
   ]
  },
  {
   "cell_type": "code",
   "execution_count": 27,
   "id": "b56cffd6-ca74-4687-a4ba-d6d33d33315f",
   "metadata": {},
   "outputs": [
    {
     "data": {
      "image/png": "[encoded data removed]",
      "text/plain": [
       "<Figure size 720x432 with 1 Axes>"
      ]
     },
     "metadata": {
      "needs_background": "light"
     },
     "output_type": "display_data"
    }
   ],
   "source": [
    "# Plot and Visualize Predicted Values for Quantity Sold\n",
    "plt.figure(figsize=(10, 6))\n",
    "plt.plot(df_forecast.index, forecast, label='Predicted Values')\n",
    "plt.title('Daily Quantity Products Sold Forecasting')\n",
    "plt.legend()\n",
    "plt.show()"
   ]
  },
  {
   "cell_type": "code",
   "execution_count": 28,
   "id": "0079fc3f-e2ae-4518-8221-1b606675981a",
   "metadata": {},
   "outputs": [
    {
     "name": "stdout",
     "output_type": "stream",
     "text": [
      "Average of Quantity Products Sold Per day: 49.69386054875526\n"
     ]
    }
   ],
   "source": [
    "# Check Mean Quantity Sold per Day\n",
    "avg_qty_sold = forecast.mean()\n",
    "print(f\"Average of Quantity Products Sold Per day: {avg_qty_sold}\")"
   ]
  },
  {
   "cell_type": "markdown",
   "id": "e46ed39c-95a9-4dca-ae0f-c6bd871a9dc5",
   "metadata": {},
   "source": [
    "**Observation:**\n",
    "\n",
    "Based on graph above, It shows that **Daily Quantity Products Sold Forecasting** in the nex month with average all product sold each day is 49 - 50 pieces."
   ]
  },
  {
   "cell_type": "markdown",
   "id": "ee6d0d14-4cbd-4236-b5d6-c7caa194d938",
   "metadata": {},
   "source": [
    "### **📌 Quantity Sold Each Product Forecasting** ###"
   ]
  },
  {
   "cell_type": "code",
   "execution_count": 29,
   "id": "723f7b45-a018-4bd1-ab53-a4ae74d207b5",
   "metadata": {},
   "outputs": [
    {
     "data": {
      "text/html": [
       "<div>\n",
       "<style scoped>\n",
       "    .dataframe tbody tr th:only-of-type {\n",
       "        vertical-align: middle;\n",
       "    }\n",
       "\n",
       "    .dataframe tbody tr th {\n",
       "        vertical-align: top;\n",
       "    }\n",
       "\n",
       "    .dataframe thead th {\n",
       "        text-align: right;\n",
       "    }\n",
       "</style>\n",
       "<table border=\"1\" class=\"dataframe\">\n",
       "  <thead>\n",
       "    <tr style=\"text-align: right;\">\n",
       "      <th></th>\n",
       "      <th>Cashew</th>\n",
       "      <th>Cheese Stick</th>\n",
       "      <th>Choco Bar</th>\n",
       "      <th>Coffee Candy</th>\n",
       "      <th>Crackers</th>\n",
       "      <th>Ginger Candy</th>\n",
       "      <th>Oat</th>\n",
       "      <th>Potato Chip</th>\n",
       "      <th>Thai Tea</th>\n",
       "      <th>Yoghurt</th>\n",
       "    </tr>\n",
       "    <tr>\n",
       "      <th>date</th>\n",
       "      <th></th>\n",
       "      <th></th>\n",
       "      <th></th>\n",
       "      <th></th>\n",
       "      <th></th>\n",
       "      <th></th>\n",
       "      <th></th>\n",
       "      <th></th>\n",
       "      <th></th>\n",
       "      <th></th>\n",
       "    </tr>\n",
       "  </thead>\n",
       "  <tbody>\n",
       "    <tr>\n",
       "      <th>2023-01-01</th>\n",
       "      <td>1.820271</td>\n",
       "      <td>6.701247</td>\n",
       "      <td>5.023622</td>\n",
       "      <td>6.708973</td>\n",
       "      <td>6.106235</td>\n",
       "      <td>7.841138</td>\n",
       "      <td>2.643269</td>\n",
       "      <td>3.624533</td>\n",
       "      <td>4.672604</td>\n",
       "      <td>3.830957</td>\n",
       "    </tr>\n",
       "    <tr>\n",
       "      <th>2023-01-02</th>\n",
       "      <td>2.050780</td>\n",
       "      <td>7.967038</td>\n",
       "      <td>6.096409</td>\n",
       "      <td>6.570339</td>\n",
       "      <td>5.634547</td>\n",
       "      <td>8.999709</td>\n",
       "      <td>3.249200</td>\n",
       "      <td>1.761774</td>\n",
       "      <td>4.792271</td>\n",
       "      <td>4.280938</td>\n",
       "    </tr>\n",
       "    <tr>\n",
       "      <th>2023-01-03</th>\n",
       "      <td>1.838230</td>\n",
       "      <td>6.139172</td>\n",
       "      <td>5.936069</td>\n",
       "      <td>6.519189</td>\n",
       "      <td>5.230499</td>\n",
       "      <td>7.374542</td>\n",
       "      <td>2.876848</td>\n",
       "      <td>2.535615</td>\n",
       "      <td>3.967512</td>\n",
       "      <td>4.739068</td>\n",
       "    </tr>\n",
       "    <tr>\n",
       "      <th>2023-01-04</th>\n",
       "      <td>1.770446</td>\n",
       "      <td>6.653011</td>\n",
       "      <td>3.849957</td>\n",
       "      <td>6.750441</td>\n",
       "      <td>5.211875</td>\n",
       "      <td>6.900365</td>\n",
       "      <td>2.967520</td>\n",
       "      <td>3.141005</td>\n",
       "      <td>4.957475</td>\n",
       "      <td>4.547295</td>\n",
       "    </tr>\n",
       "    <tr>\n",
       "      <th>2023-01-05</th>\n",
       "      <td>1.244804</td>\n",
       "      <td>6.401178</td>\n",
       "      <td>5.129626</td>\n",
       "      <td>7.808847</td>\n",
       "      <td>4.899641</td>\n",
       "      <td>6.950302</td>\n",
       "      <td>2.926173</td>\n",
       "      <td>3.211266</td>\n",
       "      <td>4.874770</td>\n",
       "      <td>4.088417</td>\n",
       "    </tr>\n",
       "  </tbody>\n",
       "</table>\n",
       "</div>"
      ],
      "text/plain": [
       "              Cashew  Cheese Stick  Choco Bar  Coffee Candy  Crackers  \\\n",
       "date                                                                    \n",
       "2023-01-01  1.820271      6.701247   5.023622      6.708973  6.106235   \n",
       "2023-01-02  2.050780      7.967038   6.096409      6.570339  5.634547   \n",
       "2023-01-03  1.838230      6.139172   5.936069      6.519189  5.230499   \n",
       "2023-01-04  1.770446      6.653011   3.849957      6.750441  5.211875   \n",
       "2023-01-05  1.244804      6.401178   5.129626      7.808847  4.899641   \n",
       "\n",
       "            Ginger Candy        Oat  Potato Chip  Thai Tea   Yoghurt  \n",
       "date                                                                  \n",
       "2023-01-01       7.841138  2.643269     3.624533  4.672604  3.830957  \n",
       "2023-01-02       8.999709  3.249200     1.761774  4.792271  4.280938  \n",
       "2023-01-03       7.374542  2.876848     2.535615  3.967512  4.739068  \n",
       "2023-01-04       6.900365  2.967520     3.141005  4.957475  4.547295  \n",
       "2023-01-05       6.950302  2.926173     3.211266  4.874770  4.088417  "
      ]
     },
     "execution_count": 29,
     "metadata": {},
     "output_type": "execute_result"
    }
   ],
   "source": [
    "# forecasting quantity of each product for 1 month\n",
    "product_forecast = df[['qty', 'date', 'product_name']]\n",
    "\n",
    "# List of product\n",
    "product_list = product_forecast['product_name'].unique()\n",
    "\n",
    "# Create new dataFrame to store the forecasts\n",
    "forecast_date = pd.DataFrame({'date': pd.date_range(start='2023-01-01', end='2023-01-30')})\n",
    "\n",
    "# Fit the function to ARIMA model and make the forecasts\n",
    "def fit_arima_forecast(df_prod_forecast):\n",
    "    model = ARIMA(df_prod_forecast['qty'], order=best_order)\n",
    "    model_fit = model.fit()\n",
    "    forecast = model_fit.forecast(steps=30)\n",
    "    return forecast\n",
    "\n",
    "# Group data by 'product_name', and then apply the forecasting function for each group\n",
    "for i, group in product_forecast.groupby('product_name'):\n",
    "    df_prod_forecast = group[['date', 'qty']]\n",
    "    df_prod_forecast = df_prod_forecast.groupby('date')[['qty']].sum()\n",
    "\n",
    "    # Set the index to fill missing dates\n",
    "    df_prod_forecast = df_prod_forecast.reindex(pd.date_range(start='2022-01-01', end='2022-12-31'), fill_value=0)\n",
    "\n",
    "    # Fit ARIMA model and make forecasts\n",
    "    forecast1 = fit_arima_forecast(df_prod_forecast)\n",
    "\n",
    "    # Add forecasts to the main DataFrame\n",
    "    forecast_date[i] = forecast1.values\n",
    "\n",
    "forecast_date = forecast_date.set_index('date')\n",
    "forecast_date.head()"
   ]
  },
  {
   "cell_type": "code",
   "execution_count": 30,
   "id": "c69ccce5-13b3-4774-b36e-b5ed08439399",
   "metadata": {},
   "outputs": [
    {
     "data": {
      "image/png": "[encoded data removed]",
      "text/plain": [
       "<Figure size 864x360 with 1 Axes>"
      ]
     },
     "metadata": {
      "needs_background": "light"
     },
     "output_type": "display_data"
    }
   ],
   "source": [
    "# Plot forecasting\n",
    "plt.figure(figsize=(12, 5))\n",
    "for i in forecast_date.columns:\n",
    "    plt.plot(forecast_date.index, forecast_date[i], label=i)\n",
    "\n",
    "plt.legend(loc='center left', bbox_to_anchor=(1, 0.2))\n",
    "plt.title('Products Quantity Sold Forecasting')\n",
    "plt.xlabel('Date')\n",
    "plt.ylabel('Quantity Sold')\n",
    "plt.show()"
   ]
  },
  {
   "cell_type": "code",
   "execution_count": 31,
   "id": "03f72ec2-fcde-47f6-8236-375d979759c9",
   "metadata": {},
   "outputs": [
    {
     "name": "stdout",
     "output_type": "stream",
     "text": [
      "╒════════════════╤══════════════════════════════════╕\n",
      "│ Product Name   │   Average of Quantity Sold Daily │\n",
      "╞════════════════╪══════════════════════════════════╡\n",
      "│ Cashew         │                                2 │\n",
      "├────────────────┼──────────────────────────────────┤\n",
      "│ Cheese Stick   │                                3 │\n",
      "├────────────────┼──────────────────────────────────┤\n",
      "│ Choco Bar      │                                6 │\n",
      "├────────────────┼──────────────────────────────────┤\n",
      "│ Coffee Candy   │                                4 │\n",
      "├────────────────┼──────────────────────────────────┤\n",
      "│ Crackers       │                                4 │\n",
      "├────────────────┼──────────────────────────────────┤\n",
      "│ Ginger Candy   │                                5 │\n",
      "├────────────────┼──────────────────────────────────┤\n",
      "│ Oat            │                                2 │\n",
      "├────────────────┼──────────────────────────────────┤\n",
      "│ Potato Chip    │                                3 │\n",
      "├────────────────┼──────────────────────────────────┤\n",
      "│ Thai Tea       │                                4 │\n",
      "├────────────────┼──────────────────────────────────┤\n",
      "│ Yoghurt        │                                4 │\n",
      "╘════════════════╧══════════════════════════════════╛\n"
     ]
    }
   ],
   "source": [
    "# Check mean per product sold daily\n",
    "avg_qty_per_product = df.groupby('product_name')['qty'].mean().round()\n",
    "avg_qty_per_product_table = pd.DataFrame(avg_qty_per_product).reset_index()\n",
    "avg_qty_per_product_table.columns = ['Product Name', 'Average of Quantity Sold Daily']\n",
    "\n",
    "# Convert the DataFrame to a nicely formatted table\n",
    "table = tabulate(avg_qty_per_product_table, headers='keys', tablefmt='fancy_grid', showindex=False)\n",
    "\n",
    "# Print the table\n",
    "print(table)"
   ]
  },
  {
   "cell_type": "markdown",
   "id": "8aeb58f7-67c6-497a-b6f3-41e7830e6ad4",
   "metadata": {},
   "source": [
    "**Observation:**\n",
    "\n",
    "Based on graph and table above, It shows that **Quantity Sold Each Product Forecasting** in the next month. Top 2 products that are predicted to sell the most every day are `Choco Bar` products with an average of 6 products sold per day, and `Ginger Candy` products with an average of 5 products sold per day."
   ]
  }
 ],
 "metadata": {
  "kernelspec": {
   "display_name": "Python 3 (ipykernel)",
   "language": "python",
   "name": "python3"
  },
  "language_info": {
   "codemirror_mode": {
    "name": "ipython",
    "version": 3
   },
   "file_extension": ".py",
   "mimetype": "text/x-python",
   "name": "python",
   "nbconvert_exporter": "python",
   "pygments_lexer": "ipython3",
   "version": "3.9.12"
  }
 },
 "nbformat": 4,
 "nbformat_minor": 5
}
