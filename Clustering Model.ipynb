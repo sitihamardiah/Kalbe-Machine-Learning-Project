{
 "cells": [
  {
   "cell_type": "markdown",
   "id": "c04dba2d-9a75-4362-a706-ad1ed8f21781",
   "metadata": {},
   "source": [
    "# **✨ Create Clustering Model Using K-Means✨** #"
   ]
  },
  {
   "cell_type": "markdown",
   "id": "3bb221c9-1ea3-4da0-8133-3464f7129e4d",
   "metadata": {},
   "source": [
    "## **📍 Table of Content 📍**\n",
    "- Business Understanding\n",
    "\n",
    "- Data Preparation\n",
    "    - Import Libraries\n",
    "    - Import Datasets\n",
    "    \n",
    "- Data Understanding/Exploring Datasets\n",
    "    - Data Shape\n",
    "    - Data Info\n",
    "    - Checking Missing Value\n",
    "    - Checking Duplicate Rows\n",
    "    \n",
    "- Data Preprocessing\n",
    "    - Rename Column\n",
    "    - Change Data Type\n",
    "    - Data Imputation\n",
    "    - Check Data Outlier\n",
    "    - Data Transformation with Standardization\n",
    "\n",
    "- Clustering Model with K-Means Model\n",
    "    - Elbow Method\n",
    "    - K-Means Model Segmentation\n",
    "    - K-Means Model Segmentation using PCA\n",
    "    - Silhoutte Score\n",
    "    - RFM Analysis\n",
    "    \n",
    "## **Datasets** ##\n",
    "- [Customer](https://drive.google.com/file/d/1iC_2MvbHQsLq_uqSjejZnPExKcrKXsCa/view?usp=sharing)\n",
    "- [Product](https://drive.google.com/file/d/1YHY_VunBnw2N9tYFsrGZwbTdLAsU_cAf/view?usp=sharing)\n",
    "- [Store](https://drive.google.com/file/d/16N4dJOPb4ph3Jrx0dqrp3r2CJlSpTbnC/view?usp=sharing)\n",
    "- [Transaction](https://drive.google.com/file/d/1CHLPSxzMBNtft64xf3R-FyU3W3rw3QTB/view?usp=sharing)"
   ]
  },
  {
   "cell_type": "markdown",
   "id": "209bba35-ee57-467c-91fc-f945f9644f15",
   "metadata": {},
   "source": [
    "## **💡 Business Understanding** ##\n",
    "\n",
    "The inventory team needs help from the Data Team to be able to help predict the sales volume (quantity) of the total number of Kalbe products.\n",
    "\n",
    "The aim of this project is to find out estimate the quantity of product sold so that the team inventory can make stock daily inventory sufficient.\n",
    "\n",
    "Predictions must be made daily."
   ]
  },
  {
   "cell_type": "markdown",
   "id": "5f1110e2-4d52-46c7-98fa-2a07830120c4",
   "metadata": {},
   "source": [
    "## **💡 Data Preparation** ##"
   ]
  },
  {
   "cell_type": "markdown",
   "id": "0afbca01-556e-4f20-bcb6-e188231dabdc",
   "metadata": {},
   "source": [
    "### **📌 Import Libraries** ###"
   ]
  },
  {
   "cell_type": "code",
   "execution_count": 1,
   "id": "00df5b34-40fb-4b3c-8a53-62fdb749697a",
   "metadata": {},
   "outputs": [],
   "source": [
    "import numpy as np\n",
    "import pandas as pd\n",
    "import seaborn as sns\n",
    "import matplotlib.pyplot as plt\n",
    "import math\n",
    "from sklearn.decomposition import PCA\n",
    "from sklearn.cluster import KMeans\n",
    "from sklearn.preprocessing import StandardScaler\n",
    "from sklearn.metrics import silhouette_score\n",
    "\n",
    "import warnings \n",
    "warnings.filterwarnings(\"ignore\")"
   ]
  },
  {
   "cell_type": "markdown",
   "id": "359294ab-ef28-4407-ae36-96f7402f73f6",
   "metadata": {},
   "source": [
    "### **📌 Import Dataset** ###"
   ]
  },
  {
   "cell_type": "code",
   "execution_count": 2,
   "id": "0b375cde-0965-4f72-972f-2572a3a39ab4",
   "metadata": {},
   "outputs": [],
   "source": [
    "#Read all csv files\n",
    "customers = pd.read_csv('database/Case Study - Customer.csv',sep=';')\n",
    "product = pd.read_csv('database/Case Study - Product.csv',sep=';')\n",
    "transaction = pd.read_csv('database/Case Study - Transaction.csv',sep=';')\n",
    "store = pd.read_csv('database/Case Study - Store.csv',sep=';')"
   ]
  },
  {
   "cell_type": "code",
   "execution_count": 3,
   "id": "a9afe349-1203-4ac2-934d-529a7060918a",
   "metadata": {},
   "outputs": [
    {
     "data": {
      "text/html": [
       "<div>\n",
       "<style scoped>\n",
       "    .dataframe tbody tr th:only-of-type {\n",
       "        vertical-align: middle;\n",
       "    }\n",
       "\n",
       "    .dataframe tbody tr th {\n",
       "        vertical-align: top;\n",
       "    }\n",
       "\n",
       "    .dataframe thead th {\n",
       "        text-align: right;\n",
       "    }\n",
       "</style>\n",
       "<table border=\"1\" class=\"dataframe\">\n",
       "  <thead>\n",
       "    <tr style=\"text-align: right;\">\n",
       "      <th></th>\n",
       "      <th>CustomerID</th>\n",
       "      <th>Age</th>\n",
       "      <th>Gender</th>\n",
       "      <th>Marital Status</th>\n",
       "      <th>Income</th>\n",
       "    </tr>\n",
       "  </thead>\n",
       "  <tbody>\n",
       "    <tr>\n",
       "      <th>0</th>\n",
       "      <td>1</td>\n",
       "      <td>55</td>\n",
       "      <td>1</td>\n",
       "      <td>Married</td>\n",
       "      <td>5,12</td>\n",
       "    </tr>\n",
       "    <tr>\n",
       "      <th>1</th>\n",
       "      <td>2</td>\n",
       "      <td>60</td>\n",
       "      <td>1</td>\n",
       "      <td>Married</td>\n",
       "      <td>6,23</td>\n",
       "    </tr>\n",
       "    <tr>\n",
       "      <th>2</th>\n",
       "      <td>3</td>\n",
       "      <td>32</td>\n",
       "      <td>1</td>\n",
       "      <td>Married</td>\n",
       "      <td>9,17</td>\n",
       "    </tr>\n",
       "    <tr>\n",
       "      <th>3</th>\n",
       "      <td>4</td>\n",
       "      <td>31</td>\n",
       "      <td>1</td>\n",
       "      <td>Married</td>\n",
       "      <td>4,87</td>\n",
       "    </tr>\n",
       "    <tr>\n",
       "      <th>4</th>\n",
       "      <td>5</td>\n",
       "      <td>58</td>\n",
       "      <td>1</td>\n",
       "      <td>Married</td>\n",
       "      <td>3,57</td>\n",
       "    </tr>\n",
       "  </tbody>\n",
       "</table>\n",
       "</div>"
      ],
      "text/plain": [
       "   CustomerID  Age  Gender Marital Status Income\n",
       "0           1   55       1        Married   5,12\n",
       "1           2   60       1        Married   6,23\n",
       "2           3   32       1        Married   9,17\n",
       "3           4   31       1        Married   4,87\n",
       "4           5   58       1        Married   3,57"
      ]
     },
     "execution_count": 3,
     "metadata": {},
     "output_type": "execute_result"
    }
   ],
   "source": [
    "customers.head()"
   ]
  },
  {
   "cell_type": "code",
   "execution_count": 4,
   "id": "8325777f-0090-442a-a861-10fc9e5d5a1e",
   "metadata": {},
   "outputs": [
    {
     "data": {
      "text/html": [
       "<div>\n",
       "<style scoped>\n",
       "    .dataframe tbody tr th:only-of-type {\n",
       "        vertical-align: middle;\n",
       "    }\n",
       "\n",
       "    .dataframe tbody tr th {\n",
       "        vertical-align: top;\n",
       "    }\n",
       "\n",
       "    .dataframe thead th {\n",
       "        text-align: right;\n",
       "    }\n",
       "</style>\n",
       "<table border=\"1\" class=\"dataframe\">\n",
       "  <thead>\n",
       "    <tr style=\"text-align: right;\">\n",
       "      <th></th>\n",
       "      <th>ProductID</th>\n",
       "      <th>Product Name</th>\n",
       "      <th>Price</th>\n",
       "    </tr>\n",
       "  </thead>\n",
       "  <tbody>\n",
       "    <tr>\n",
       "      <th>0</th>\n",
       "      <td>P1</td>\n",
       "      <td>Choco Bar</td>\n",
       "      <td>8800</td>\n",
       "    </tr>\n",
       "    <tr>\n",
       "      <th>1</th>\n",
       "      <td>P2</td>\n",
       "      <td>Ginger Candy</td>\n",
       "      <td>3200</td>\n",
       "    </tr>\n",
       "    <tr>\n",
       "      <th>2</th>\n",
       "      <td>P3</td>\n",
       "      <td>Crackers</td>\n",
       "      <td>7500</td>\n",
       "    </tr>\n",
       "    <tr>\n",
       "      <th>3</th>\n",
       "      <td>P4</td>\n",
       "      <td>Potato Chip</td>\n",
       "      <td>12000</td>\n",
       "    </tr>\n",
       "    <tr>\n",
       "      <th>4</th>\n",
       "      <td>P5</td>\n",
       "      <td>Thai Tea</td>\n",
       "      <td>4200</td>\n",
       "    </tr>\n",
       "  </tbody>\n",
       "</table>\n",
       "</div>"
      ],
      "text/plain": [
       "  ProductID   Product Name  Price\n",
       "0        P1      Choco Bar   8800\n",
       "1        P2  Ginger Candy    3200\n",
       "2        P3       Crackers   7500\n",
       "3        P4    Potato Chip  12000\n",
       "4        P5       Thai Tea   4200"
      ]
     },
     "execution_count": 4,
     "metadata": {},
     "output_type": "execute_result"
    }
   ],
   "source": [
    "product.head()"
   ]
  },
  {
   "cell_type": "code",
   "execution_count": 5,
   "id": "c6063a74-e6d7-4a07-bf08-93906bf3a501",
   "metadata": {},
   "outputs": [
    {
     "data": {
      "text/html": [
       "<div>\n",
       "<style scoped>\n",
       "    .dataframe tbody tr th:only-of-type {\n",
       "        vertical-align: middle;\n",
       "    }\n",
       "\n",
       "    .dataframe tbody tr th {\n",
       "        vertical-align: top;\n",
       "    }\n",
       "\n",
       "    .dataframe thead th {\n",
       "        text-align: right;\n",
       "    }\n",
       "</style>\n",
       "<table border=\"1\" class=\"dataframe\">\n",
       "  <thead>\n",
       "    <tr style=\"text-align: right;\">\n",
       "      <th></th>\n",
       "      <th>StoreID</th>\n",
       "      <th>StoreName</th>\n",
       "      <th>GroupStore</th>\n",
       "      <th>Type</th>\n",
       "      <th>Latitude</th>\n",
       "      <th>Longitude</th>\n",
       "    </tr>\n",
       "  </thead>\n",
       "  <tbody>\n",
       "    <tr>\n",
       "      <th>0</th>\n",
       "      <td>1</td>\n",
       "      <td>Prima Tendean</td>\n",
       "      <td>Prima</td>\n",
       "      <td>Modern Trade</td>\n",
       "      <td>-6,2</td>\n",
       "      <td>106,816666</td>\n",
       "    </tr>\n",
       "    <tr>\n",
       "      <th>1</th>\n",
       "      <td>2</td>\n",
       "      <td>Prima Kelapa Dua</td>\n",
       "      <td>Prima</td>\n",
       "      <td>Modern Trade</td>\n",
       "      <td>-6,914864</td>\n",
       "      <td>107,608238</td>\n",
       "    </tr>\n",
       "    <tr>\n",
       "      <th>2</th>\n",
       "      <td>3</td>\n",
       "      <td>Prima Kota</td>\n",
       "      <td>Prima</td>\n",
       "      <td>Modern Trade</td>\n",
       "      <td>-7,797068</td>\n",
       "      <td>110,370529</td>\n",
       "    </tr>\n",
       "    <tr>\n",
       "      <th>3</th>\n",
       "      <td>4</td>\n",
       "      <td>Gita Ginara</td>\n",
       "      <td>Gita</td>\n",
       "      <td>General Trade</td>\n",
       "      <td>-6,966667</td>\n",
       "      <td>110,416664</td>\n",
       "    </tr>\n",
       "    <tr>\n",
       "      <th>4</th>\n",
       "      <td>5</td>\n",
       "      <td>Bonafid</td>\n",
       "      <td>Gita</td>\n",
       "      <td>General Trade</td>\n",
       "      <td>-7,250445</td>\n",
       "      <td>112,768845</td>\n",
       "    </tr>\n",
       "  </tbody>\n",
       "</table>\n",
       "</div>"
      ],
      "text/plain": [
       "   StoreID         StoreName GroupStore           Type   Latitude   Longitude\n",
       "0        1     Prima Tendean      Prima   Modern Trade       -6,2  106,816666\n",
       "1        2  Prima Kelapa Dua      Prima   Modern Trade  -6,914864  107,608238\n",
       "2        3        Prima Kota      Prima   Modern Trade  -7,797068  110,370529\n",
       "3        4       Gita Ginara       Gita  General Trade  -6,966667  110,416664\n",
       "4        5           Bonafid       Gita  General Trade  -7,250445  112,768845"
      ]
     },
     "execution_count": 5,
     "metadata": {},
     "output_type": "execute_result"
    }
   ],
   "source": [
    "store.head()"
   ]
  },
  {
   "cell_type": "code",
   "execution_count": 6,
   "id": "17a18d93-148a-474a-a336-3f6f95bf49c9",
   "metadata": {},
   "outputs": [
    {
     "data": {
      "text/html": [
       "<div>\n",
       "<style scoped>\n",
       "    .dataframe tbody tr th:only-of-type {\n",
       "        vertical-align: middle;\n",
       "    }\n",
       "\n",
       "    .dataframe tbody tr th {\n",
       "        vertical-align: top;\n",
       "    }\n",
       "\n",
       "    .dataframe thead th {\n",
       "        text-align: right;\n",
       "    }\n",
       "</style>\n",
       "<table border=\"1\" class=\"dataframe\">\n",
       "  <thead>\n",
       "    <tr style=\"text-align: right;\">\n",
       "      <th></th>\n",
       "      <th>TransactionID</th>\n",
       "      <th>CustomerID</th>\n",
       "      <th>Date</th>\n",
       "      <th>ProductID</th>\n",
       "      <th>Price</th>\n",
       "      <th>Qty</th>\n",
       "      <th>TotalAmount</th>\n",
       "      <th>StoreID</th>\n",
       "    </tr>\n",
       "  </thead>\n",
       "  <tbody>\n",
       "    <tr>\n",
       "      <th>0</th>\n",
       "      <td>TR11369</td>\n",
       "      <td>328</td>\n",
       "      <td>01/01/2022</td>\n",
       "      <td>P3</td>\n",
       "      <td>7500</td>\n",
       "      <td>4</td>\n",
       "      <td>30000</td>\n",
       "      <td>12</td>\n",
       "    </tr>\n",
       "    <tr>\n",
       "      <th>1</th>\n",
       "      <td>TR16356</td>\n",
       "      <td>165</td>\n",
       "      <td>01/01/2022</td>\n",
       "      <td>P9</td>\n",
       "      <td>10000</td>\n",
       "      <td>7</td>\n",
       "      <td>70000</td>\n",
       "      <td>1</td>\n",
       "    </tr>\n",
       "    <tr>\n",
       "      <th>2</th>\n",
       "      <td>TR1984</td>\n",
       "      <td>183</td>\n",
       "      <td>01/01/2022</td>\n",
       "      <td>P1</td>\n",
       "      <td>8800</td>\n",
       "      <td>4</td>\n",
       "      <td>35200</td>\n",
       "      <td>4</td>\n",
       "    </tr>\n",
       "    <tr>\n",
       "      <th>3</th>\n",
       "      <td>TR35256</td>\n",
       "      <td>160</td>\n",
       "      <td>01/01/2022</td>\n",
       "      <td>P1</td>\n",
       "      <td>8800</td>\n",
       "      <td>7</td>\n",
       "      <td>61600</td>\n",
       "      <td>4</td>\n",
       "    </tr>\n",
       "    <tr>\n",
       "      <th>4</th>\n",
       "      <td>TR41231</td>\n",
       "      <td>386</td>\n",
       "      <td>01/01/2022</td>\n",
       "      <td>P9</td>\n",
       "      <td>10000</td>\n",
       "      <td>1</td>\n",
       "      <td>10000</td>\n",
       "      <td>4</td>\n",
       "    </tr>\n",
       "  </tbody>\n",
       "</table>\n",
       "</div>"
      ],
      "text/plain": [
       "  TransactionID  CustomerID        Date ProductID  Price  Qty  TotalAmount  \\\n",
       "0       TR11369         328  01/01/2022        P3   7500    4        30000   \n",
       "1       TR16356         165  01/01/2022        P9  10000    7        70000   \n",
       "2        TR1984         183  01/01/2022        P1   8800    4        35200   \n",
       "3       TR35256         160  01/01/2022        P1   8800    7        61600   \n",
       "4       TR41231         386  01/01/2022        P9  10000    1        10000   \n",
       "\n",
       "   StoreID  \n",
       "0       12  \n",
       "1        1  \n",
       "2        4  \n",
       "3        4  \n",
       "4        4  "
      ]
     },
     "execution_count": 6,
     "metadata": {},
     "output_type": "execute_result"
    }
   ],
   "source": [
    "transaction.head()"
   ]
  },
  {
   "cell_type": "code",
   "execution_count": 7,
   "id": "655a86c7-9486-473a-acd3-2f2ad16c3e03",
   "metadata": {},
   "outputs": [
    {
     "data": {
      "text/html": [
       "<div>\n",
       "<style scoped>\n",
       "    .dataframe tbody tr th:only-of-type {\n",
       "        vertical-align: middle;\n",
       "    }\n",
       "\n",
       "    .dataframe tbody tr th {\n",
       "        vertical-align: top;\n",
       "    }\n",
       "\n",
       "    .dataframe thead th {\n",
       "        text-align: right;\n",
       "    }\n",
       "</style>\n",
       "<table border=\"1\" class=\"dataframe\">\n",
       "  <thead>\n",
       "    <tr style=\"text-align: right;\">\n",
       "      <th></th>\n",
       "      <th>TransactionID</th>\n",
       "      <th>CustomerID</th>\n",
       "      <th>Date</th>\n",
       "      <th>ProductID</th>\n",
       "      <th>Price_customers</th>\n",
       "      <th>Qty</th>\n",
       "      <th>TotalAmount</th>\n",
       "      <th>StoreID</th>\n",
       "      <th>Product Name</th>\n",
       "      <th>Price_product</th>\n",
       "      <th>StoreName</th>\n",
       "      <th>GroupStore</th>\n",
       "      <th>Type</th>\n",
       "      <th>Latitude</th>\n",
       "      <th>Longitude</th>\n",
       "      <th>Age</th>\n",
       "      <th>Gender</th>\n",
       "      <th>Marital Status</th>\n",
       "      <th>Income</th>\n",
       "    </tr>\n",
       "  </thead>\n",
       "  <tbody>\n",
       "    <tr>\n",
       "      <th>0</th>\n",
       "      <td>TR11369</td>\n",
       "      <td>328</td>\n",
       "      <td>01/01/2022</td>\n",
       "      <td>P3</td>\n",
       "      <td>7500</td>\n",
       "      <td>4</td>\n",
       "      <td>30000</td>\n",
       "      <td>12</td>\n",
       "      <td>Crackers</td>\n",
       "      <td>7500</td>\n",
       "      <td>Prestasi Utama</td>\n",
       "      <td>Prestasi</td>\n",
       "      <td>General Trade</td>\n",
       "      <td>-2,990934</td>\n",
       "      <td>104,756554</td>\n",
       "      <td>36</td>\n",
       "      <td>0</td>\n",
       "      <td>Married</td>\n",
       "      <td>10,53</td>\n",
       "    </tr>\n",
       "    <tr>\n",
       "      <th>1</th>\n",
       "      <td>TR56601</td>\n",
       "      <td>328</td>\n",
       "      <td>24/12/2022</td>\n",
       "      <td>P9</td>\n",
       "      <td>10000</td>\n",
       "      <td>1</td>\n",
       "      <td>10000</td>\n",
       "      <td>9</td>\n",
       "      <td>Yoghurt</td>\n",
       "      <td>10000</td>\n",
       "      <td>Lingga</td>\n",
       "      <td>Lingga</td>\n",
       "      <td>Modern Trade</td>\n",
       "      <td>-3,654703</td>\n",
       "      <td>128,190643</td>\n",
       "      <td>36</td>\n",
       "      <td>0</td>\n",
       "      <td>Married</td>\n",
       "      <td>10,53</td>\n",
       "    </tr>\n",
       "    <tr>\n",
       "      <th>2</th>\n",
       "      <td>TR89012</td>\n",
       "      <td>328</td>\n",
       "      <td>25/03/2022</td>\n",
       "      <td>P5</td>\n",
       "      <td>4200</td>\n",
       "      <td>5</td>\n",
       "      <td>21000</td>\n",
       "      <td>6</td>\n",
       "      <td>Thai Tea</td>\n",
       "      <td>4200</td>\n",
       "      <td>Lingga</td>\n",
       "      <td>Lingga</td>\n",
       "      <td>Modern Trade</td>\n",
       "      <td>-5,135399</td>\n",
       "      <td>119,42379</td>\n",
       "      <td>36</td>\n",
       "      <td>0</td>\n",
       "      <td>Married</td>\n",
       "      <td>10,53</td>\n",
       "    </tr>\n",
       "    <tr>\n",
       "      <th>3</th>\n",
       "      <td>TR67395</td>\n",
       "      <td>328</td>\n",
       "      <td>22/01/2022</td>\n",
       "      <td>P8</td>\n",
       "      <td>16000</td>\n",
       "      <td>3</td>\n",
       "      <td>48000</td>\n",
       "      <td>11</td>\n",
       "      <td>Oat</td>\n",
       "      <td>16000</td>\n",
       "      <td>Sinar Harapan</td>\n",
       "      <td>Prestasi</td>\n",
       "      <td>General Trade</td>\n",
       "      <td>0,533505</td>\n",
       "      <td>101,447403</td>\n",
       "      <td>36</td>\n",
       "      <td>0</td>\n",
       "      <td>Married</td>\n",
       "      <td>10,53</td>\n",
       "    </tr>\n",
       "    <tr>\n",
       "      <th>4</th>\n",
       "      <td>TR45738</td>\n",
       "      <td>328</td>\n",
       "      <td>29/12/2022</td>\n",
       "      <td>P2</td>\n",
       "      <td>3200</td>\n",
       "      <td>3</td>\n",
       "      <td>9600</td>\n",
       "      <td>11</td>\n",
       "      <td>Ginger Candy</td>\n",
       "      <td>3200</td>\n",
       "      <td>Sinar Harapan</td>\n",
       "      <td>Prestasi</td>\n",
       "      <td>General Trade</td>\n",
       "      <td>0,533505</td>\n",
       "      <td>101,447403</td>\n",
       "      <td>36</td>\n",
       "      <td>0</td>\n",
       "      <td>Married</td>\n",
       "      <td>10,53</td>\n",
       "    </tr>\n",
       "  </tbody>\n",
       "</table>\n",
       "</div>"
      ],
      "text/plain": [
       "  TransactionID  CustomerID        Date ProductID  Price_customers  Qty  \\\n",
       "0       TR11369         328  01/01/2022        P3             7500    4   \n",
       "1       TR56601         328  24/12/2022        P9            10000    1   \n",
       "2       TR89012         328  25/03/2022        P5             4200    5   \n",
       "3       TR67395         328  22/01/2022        P8            16000    3   \n",
       "4       TR45738         328  29/12/2022        P2             3200    3   \n",
       "\n",
       "   TotalAmount  StoreID   Product Name  Price_product       StoreName  \\\n",
       "0        30000       12       Crackers           7500  Prestasi Utama   \n",
       "1        10000        9        Yoghurt          10000          Lingga   \n",
       "2        21000        6       Thai Tea           4200          Lingga   \n",
       "3        48000       11            Oat          16000   Sinar Harapan   \n",
       "4         9600       11  Ginger Candy            3200   Sinar Harapan   \n",
       "\n",
       "  GroupStore           Type   Latitude   Longitude  Age  Gender  \\\n",
       "0   Prestasi  General Trade  -2,990934  104,756554   36       0   \n",
       "1     Lingga   Modern Trade  -3,654703  128,190643   36       0   \n",
       "2     Lingga   Modern Trade  -5,135399   119,42379   36       0   \n",
       "3   Prestasi  General Trade   0,533505  101,447403   36       0   \n",
       "4   Prestasi  General Trade   0,533505  101,447403   36       0   \n",
       "\n",
       "  Marital Status Income  \n",
       "0        Married  10,53  \n",
       "1        Married  10,53  \n",
       "2        Married  10,53  \n",
       "3        Married  10,53  \n",
       "4        Married  10,53  "
      ]
     },
     "execution_count": 7,
     "metadata": {},
     "output_type": "execute_result"
    }
   ],
   "source": [
    "# Merge all table into one\n",
    "\n",
    "df = pd.merge(transaction, product,on='ProductID', suffixes = ('_customers', '_product'))\n",
    "df = pd.merge(df, store, on='StoreID')\n",
    "df = pd.merge(df, customers, on='CustomerID')\n",
    "df.head()"
   ]
  },
  {
   "cell_type": "markdown",
   "id": "7af5de8d-c70b-43f7-9f00-5304c656bca4",
   "metadata": {},
   "source": [
    "## **💡 Data Understanding/Exploring Dataset** ##"
   ]
  },
  {
   "cell_type": "markdown",
   "id": "4a738f8e-a4bf-4583-8d86-31efa4dfd0ca",
   "metadata": {},
   "source": [
    "### **📌 Data Shape** ##"
   ]
  },
  {
   "cell_type": "code",
   "execution_count": 8,
   "id": "b7c8e3b8-9822-480b-8f18-2ad9a607e8e3",
   "metadata": {},
   "outputs": [
    {
     "name": "stdout",
     "output_type": "stream",
     "text": [
      "Shape of data : (5020, 19)\n",
      "Number of rows : 5020\n",
      "Number of columns : 19\n"
     ]
    }
   ],
   "source": [
    "print(\"Shape of data :\", df.shape)\n",
    "print(\"Number of rows :\", df.shape[0])\n",
    "print(\"Number of columns :\", df.shape[1])"
   ]
  },
  {
   "cell_type": "markdown",
   "id": "56eb43d0-3686-445c-812c-4f2a6419cde2",
   "metadata": {},
   "source": [
    "### **📌 Data Info** ###"
   ]
  },
  {
   "cell_type": "code",
   "execution_count": 9,
   "id": "2bfad21c-430e-4263-9ee9-5bdc4174029c",
   "metadata": {},
   "outputs": [
    {
     "name": "stdout",
     "output_type": "stream",
     "text": [
      "<class 'pandas.core.frame.DataFrame'>\n",
      "Int64Index: 5020 entries, 0 to 5019\n",
      "Data columns (total 19 columns):\n",
      " #   Column           Non-Null Count  Dtype \n",
      "---  ------           --------------  ----- \n",
      " 0   TransactionID    5020 non-null   object\n",
      " 1   CustomerID       5020 non-null   int64 \n",
      " 2   Date             5020 non-null   object\n",
      " 3   ProductID        5020 non-null   object\n",
      " 4   Price_customers  5020 non-null   int64 \n",
      " 5   Qty              5020 non-null   int64 \n",
      " 6   TotalAmount      5020 non-null   int64 \n",
      " 7   StoreID          5020 non-null   int64 \n",
      " 8   Product Name     5020 non-null   object\n",
      " 9   Price_product    5020 non-null   int64 \n",
      " 10  StoreName        5020 non-null   object\n",
      " 11  GroupStore       5020 non-null   object\n",
      " 12  Type             5020 non-null   object\n",
      " 13  Latitude         5020 non-null   object\n",
      " 14  Longitude        5020 non-null   object\n",
      " 15  Age              5020 non-null   int64 \n",
      " 16  Gender           5020 non-null   int64 \n",
      " 17  Marital Status   4976 non-null   object\n",
      " 18  Income           5020 non-null   object\n",
      "dtypes: int64(8), object(11)\n",
      "memory usage: 784.4+ KB\n"
     ]
    }
   ],
   "source": [
    "df.info()"
   ]
  },
  {
   "cell_type": "markdown",
   "id": "e0e3f622-2d47-4b6f-8033-81af1649b42c",
   "metadata": {},
   "source": [
    "### **📌 Checking Missing Value** ###"
   ]
  },
  {
   "cell_type": "code",
   "execution_count": 10,
   "id": "93152566-b274-4d66-bc43-021e70a56039",
   "metadata": {},
   "outputs": [
    {
     "data": {
      "text/plain": [
       "TransactionID       0\n",
       "CustomerID          0\n",
       "Date                0\n",
       "ProductID           0\n",
       "Price_customers     0\n",
       "Qty                 0\n",
       "TotalAmount         0\n",
       "StoreID             0\n",
       "Product Name        0\n",
       "Price_product       0\n",
       "StoreName           0\n",
       "GroupStore          0\n",
       "Type                0\n",
       "Latitude            0\n",
       "Longitude           0\n",
       "Age                 0\n",
       "Gender              0\n",
       "Marital Status     44\n",
       "Income              0\n",
       "dtype: int64"
      ]
     },
     "execution_count": 10,
     "metadata": {},
     "output_type": "execute_result"
    }
   ],
   "source": [
    "df.isna().sum()"
   ]
  },
  {
   "cell_type": "markdown",
   "id": "abfe430d-2660-405c-80d0-8cb403369804",
   "metadata": {},
   "source": [
    "### **📌 Checking Duplicate Row** ###"
   ]
  },
  {
   "cell_type": "code",
   "execution_count": 11,
   "id": "a11fcf02-ee2a-4f23-be71-d381b183d220",
   "metadata": {},
   "outputs": [
    {
     "data": {
      "text/plain": [
       "0"
      ]
     },
     "execution_count": 11,
     "metadata": {},
     "output_type": "execute_result"
    }
   ],
   "source": [
    "df.duplicated().sum()"
   ]
  },
  {
   "cell_type": "markdown",
   "id": "a032776d-73ff-473e-a944-3784978b26d4",
   "metadata": {},
   "source": [
    "## **💡 Data Preprocessing** ##"
   ]
  },
  {
   "cell_type": "markdown",
   "id": "05e96a59-ef99-4c47-b7f5-802faa1d0082",
   "metadata": {},
   "source": [
    "### **📌 Rename Column** ###"
   ]
  },
  {
   "cell_type": "code",
   "execution_count": 12,
   "id": "7a4e8b4e-f954-4d4e-9511-33193a3e9e76",
   "metadata": {},
   "outputs": [
    {
     "data": {
      "text/html": [
       "<div>\n",
       "<style scoped>\n",
       "    .dataframe tbody tr th:only-of-type {\n",
       "        vertical-align: middle;\n",
       "    }\n",
       "\n",
       "    .dataframe tbody tr th {\n",
       "        vertical-align: top;\n",
       "    }\n",
       "\n",
       "    .dataframe thead th {\n",
       "        text-align: right;\n",
       "    }\n",
       "</style>\n",
       "<table border=\"1\" class=\"dataframe\">\n",
       "  <thead>\n",
       "    <tr style=\"text-align: right;\">\n",
       "      <th></th>\n",
       "      <th>transactionid</th>\n",
       "      <th>customerid</th>\n",
       "      <th>date</th>\n",
       "      <th>productid</th>\n",
       "      <th>price_customers</th>\n",
       "      <th>qty</th>\n",
       "      <th>totalamount</th>\n",
       "      <th>storeid</th>\n",
       "      <th>product_name</th>\n",
       "      <th>price_product</th>\n",
       "      <th>storename</th>\n",
       "      <th>groupstore</th>\n",
       "      <th>type</th>\n",
       "      <th>latitude</th>\n",
       "      <th>longitude</th>\n",
       "      <th>age</th>\n",
       "      <th>gender</th>\n",
       "      <th>marital_status</th>\n",
       "      <th>income</th>\n",
       "    </tr>\n",
       "  </thead>\n",
       "  <tbody>\n",
       "    <tr>\n",
       "      <th>0</th>\n",
       "      <td>TR11369</td>\n",
       "      <td>328</td>\n",
       "      <td>01/01/2022</td>\n",
       "      <td>P3</td>\n",
       "      <td>7500</td>\n",
       "      <td>4</td>\n",
       "      <td>30000</td>\n",
       "      <td>12</td>\n",
       "      <td>Crackers</td>\n",
       "      <td>7500</td>\n",
       "      <td>Prestasi Utama</td>\n",
       "      <td>Prestasi</td>\n",
       "      <td>General Trade</td>\n",
       "      <td>-2,990934</td>\n",
       "      <td>104,756554</td>\n",
       "      <td>36</td>\n",
       "      <td>0</td>\n",
       "      <td>Married</td>\n",
       "      <td>10,53</td>\n",
       "    </tr>\n",
       "    <tr>\n",
       "      <th>1</th>\n",
       "      <td>TR56601</td>\n",
       "      <td>328</td>\n",
       "      <td>24/12/2022</td>\n",
       "      <td>P9</td>\n",
       "      <td>10000</td>\n",
       "      <td>1</td>\n",
       "      <td>10000</td>\n",
       "      <td>9</td>\n",
       "      <td>Yoghurt</td>\n",
       "      <td>10000</td>\n",
       "      <td>Lingga</td>\n",
       "      <td>Lingga</td>\n",
       "      <td>Modern Trade</td>\n",
       "      <td>-3,654703</td>\n",
       "      <td>128,190643</td>\n",
       "      <td>36</td>\n",
       "      <td>0</td>\n",
       "      <td>Married</td>\n",
       "      <td>10,53</td>\n",
       "    </tr>\n",
       "    <tr>\n",
       "      <th>2</th>\n",
       "      <td>TR89012</td>\n",
       "      <td>328</td>\n",
       "      <td>25/03/2022</td>\n",
       "      <td>P5</td>\n",
       "      <td>4200</td>\n",
       "      <td>5</td>\n",
       "      <td>21000</td>\n",
       "      <td>6</td>\n",
       "      <td>Thai Tea</td>\n",
       "      <td>4200</td>\n",
       "      <td>Lingga</td>\n",
       "      <td>Lingga</td>\n",
       "      <td>Modern Trade</td>\n",
       "      <td>-5,135399</td>\n",
       "      <td>119,42379</td>\n",
       "      <td>36</td>\n",
       "      <td>0</td>\n",
       "      <td>Married</td>\n",
       "      <td>10,53</td>\n",
       "    </tr>\n",
       "    <tr>\n",
       "      <th>3</th>\n",
       "      <td>TR67395</td>\n",
       "      <td>328</td>\n",
       "      <td>22/01/2022</td>\n",
       "      <td>P8</td>\n",
       "      <td>16000</td>\n",
       "      <td>3</td>\n",
       "      <td>48000</td>\n",
       "      <td>11</td>\n",
       "      <td>Oat</td>\n",
       "      <td>16000</td>\n",
       "      <td>Sinar Harapan</td>\n",
       "      <td>Prestasi</td>\n",
       "      <td>General Trade</td>\n",
       "      <td>0,533505</td>\n",
       "      <td>101,447403</td>\n",
       "      <td>36</td>\n",
       "      <td>0</td>\n",
       "      <td>Married</td>\n",
       "      <td>10,53</td>\n",
       "    </tr>\n",
       "    <tr>\n",
       "      <th>4</th>\n",
       "      <td>TR45738</td>\n",
       "      <td>328</td>\n",
       "      <td>29/12/2022</td>\n",
       "      <td>P2</td>\n",
       "      <td>3200</td>\n",
       "      <td>3</td>\n",
       "      <td>9600</td>\n",
       "      <td>11</td>\n",
       "      <td>Ginger Candy</td>\n",
       "      <td>3200</td>\n",
       "      <td>Sinar Harapan</td>\n",
       "      <td>Prestasi</td>\n",
       "      <td>General Trade</td>\n",
       "      <td>0,533505</td>\n",
       "      <td>101,447403</td>\n",
       "      <td>36</td>\n",
       "      <td>0</td>\n",
       "      <td>Married</td>\n",
       "      <td>10,53</td>\n",
       "    </tr>\n",
       "  </tbody>\n",
       "</table>\n",
       "</div>"
      ],
      "text/plain": [
       "  transactionid  customerid        date productid  price_customers  qty  \\\n",
       "0       TR11369         328  01/01/2022        P3             7500    4   \n",
       "1       TR56601         328  24/12/2022        P9            10000    1   \n",
       "2       TR89012         328  25/03/2022        P5             4200    5   \n",
       "3       TR67395         328  22/01/2022        P8            16000    3   \n",
       "4       TR45738         328  29/12/2022        P2             3200    3   \n",
       "\n",
       "   totalamount  storeid   product_name  price_product       storename  \\\n",
       "0        30000       12       Crackers           7500  Prestasi Utama   \n",
       "1        10000        9        Yoghurt          10000          Lingga   \n",
       "2        21000        6       Thai Tea           4200          Lingga   \n",
       "3        48000       11            Oat          16000   Sinar Harapan   \n",
       "4         9600       11  Ginger Candy            3200   Sinar Harapan   \n",
       "\n",
       "  groupstore           type   latitude   longitude  age  gender  \\\n",
       "0   Prestasi  General Trade  -2,990934  104,756554   36       0   \n",
       "1     Lingga   Modern Trade  -3,654703  128,190643   36       0   \n",
       "2     Lingga   Modern Trade  -5,135399   119,42379   36       0   \n",
       "3   Prestasi  General Trade   0,533505  101,447403   36       0   \n",
       "4   Prestasi  General Trade   0,533505  101,447403   36       0   \n",
       "\n",
       "  marital_status income  \n",
       "0        Married  10,53  \n",
       "1        Married  10,53  \n",
       "2        Married  10,53  \n",
       "3        Married  10,53  \n",
       "4        Married  10,53  "
      ]
     },
     "execution_count": 12,
     "metadata": {},
     "output_type": "execute_result"
    }
   ],
   "source": [
    "for column in df.columns:\n",
    "    df.rename(columns ={column: column.lower()}, inplace = True)\n",
    "df.rename(columns = {'marital status': 'marital_status'}, inplace = True)\n",
    "df.rename(columns = {'product name': 'product_name'}, inplace = True)\n",
    "df.head()"
   ]
  },
  {
   "cell_type": "markdown",
   "id": "53fe79de-69d7-4a17-bc8f-0b9a3f1bedf1",
   "metadata": {},
   "source": [
    "### **📌 Change Data Type** ###"
   ]
  },
  {
   "cell_type": "code",
   "execution_count": 13,
   "id": "4c735a9d-f498-492d-be19-a34a33de1f79",
   "metadata": {},
   "outputs": [
    {
     "data": {
      "text/html": [
       "<div>\n",
       "<style scoped>\n",
       "    .dataframe tbody tr th:only-of-type {\n",
       "        vertical-align: middle;\n",
       "    }\n",
       "\n",
       "    .dataframe tbody tr th {\n",
       "        vertical-align: top;\n",
       "    }\n",
       "\n",
       "    .dataframe thead th {\n",
       "        text-align: right;\n",
       "    }\n",
       "</style>\n",
       "<table border=\"1\" class=\"dataframe\">\n",
       "  <thead>\n",
       "    <tr style=\"text-align: right;\">\n",
       "      <th></th>\n",
       "      <th>transactionid</th>\n",
       "      <th>customerid</th>\n",
       "      <th>date</th>\n",
       "      <th>productid</th>\n",
       "      <th>price_customers</th>\n",
       "      <th>qty</th>\n",
       "      <th>totalamount</th>\n",
       "      <th>storeid</th>\n",
       "      <th>product_name</th>\n",
       "      <th>price_product</th>\n",
       "      <th>storename</th>\n",
       "      <th>groupstore</th>\n",
       "      <th>type</th>\n",
       "      <th>latitude</th>\n",
       "      <th>longitude</th>\n",
       "      <th>age</th>\n",
       "      <th>gender</th>\n",
       "      <th>marital_status</th>\n",
       "      <th>income</th>\n",
       "    </tr>\n",
       "  </thead>\n",
       "  <tbody>\n",
       "    <tr>\n",
       "      <th>0</th>\n",
       "      <td>TR11369</td>\n",
       "      <td>328</td>\n",
       "      <td>2022-01-01</td>\n",
       "      <td>P3</td>\n",
       "      <td>7500</td>\n",
       "      <td>4</td>\n",
       "      <td>30000</td>\n",
       "      <td>12</td>\n",
       "      <td>Crackers</td>\n",
       "      <td>7500</td>\n",
       "      <td>Prestasi Utama</td>\n",
       "      <td>Prestasi</td>\n",
       "      <td>General Trade</td>\n",
       "      <td>-2,990934</td>\n",
       "      <td>104,756554</td>\n",
       "      <td>36</td>\n",
       "      <td>0</td>\n",
       "      <td>Married</td>\n",
       "      <td>10.53</td>\n",
       "    </tr>\n",
       "    <tr>\n",
       "      <th>1</th>\n",
       "      <td>TR56601</td>\n",
       "      <td>328</td>\n",
       "      <td>2022-12-24</td>\n",
       "      <td>P9</td>\n",
       "      <td>10000</td>\n",
       "      <td>1</td>\n",
       "      <td>10000</td>\n",
       "      <td>9</td>\n",
       "      <td>Yoghurt</td>\n",
       "      <td>10000</td>\n",
       "      <td>Lingga</td>\n",
       "      <td>Lingga</td>\n",
       "      <td>Modern Trade</td>\n",
       "      <td>-3,654703</td>\n",
       "      <td>128,190643</td>\n",
       "      <td>36</td>\n",
       "      <td>0</td>\n",
       "      <td>Married</td>\n",
       "      <td>10.53</td>\n",
       "    </tr>\n",
       "    <tr>\n",
       "      <th>2</th>\n",
       "      <td>TR89012</td>\n",
       "      <td>328</td>\n",
       "      <td>2022-03-25</td>\n",
       "      <td>P5</td>\n",
       "      <td>4200</td>\n",
       "      <td>5</td>\n",
       "      <td>21000</td>\n",
       "      <td>6</td>\n",
       "      <td>Thai Tea</td>\n",
       "      <td>4200</td>\n",
       "      <td>Lingga</td>\n",
       "      <td>Lingga</td>\n",
       "      <td>Modern Trade</td>\n",
       "      <td>-5,135399</td>\n",
       "      <td>119,42379</td>\n",
       "      <td>36</td>\n",
       "      <td>0</td>\n",
       "      <td>Married</td>\n",
       "      <td>10.53</td>\n",
       "    </tr>\n",
       "    <tr>\n",
       "      <th>3</th>\n",
       "      <td>TR67395</td>\n",
       "      <td>328</td>\n",
       "      <td>2022-01-22</td>\n",
       "      <td>P8</td>\n",
       "      <td>16000</td>\n",
       "      <td>3</td>\n",
       "      <td>48000</td>\n",
       "      <td>11</td>\n",
       "      <td>Oat</td>\n",
       "      <td>16000</td>\n",
       "      <td>Sinar Harapan</td>\n",
       "      <td>Prestasi</td>\n",
       "      <td>General Trade</td>\n",
       "      <td>0,533505</td>\n",
       "      <td>101,447403</td>\n",
       "      <td>36</td>\n",
       "      <td>0</td>\n",
       "      <td>Married</td>\n",
       "      <td>10.53</td>\n",
       "    </tr>\n",
       "    <tr>\n",
       "      <th>4</th>\n",
       "      <td>TR45738</td>\n",
       "      <td>328</td>\n",
       "      <td>2022-12-29</td>\n",
       "      <td>P2</td>\n",
       "      <td>3200</td>\n",
       "      <td>3</td>\n",
       "      <td>9600</td>\n",
       "      <td>11</td>\n",
       "      <td>Ginger Candy</td>\n",
       "      <td>3200</td>\n",
       "      <td>Sinar Harapan</td>\n",
       "      <td>Prestasi</td>\n",
       "      <td>General Trade</td>\n",
       "      <td>0,533505</td>\n",
       "      <td>101,447403</td>\n",
       "      <td>36</td>\n",
       "      <td>0</td>\n",
       "      <td>Married</td>\n",
       "      <td>10.53</td>\n",
       "    </tr>\n",
       "  </tbody>\n",
       "</table>\n",
       "</div>"
      ],
      "text/plain": [
       "  transactionid  customerid       date productid  price_customers  qty  \\\n",
       "0       TR11369         328 2022-01-01        P3             7500    4   \n",
       "1       TR56601         328 2022-12-24        P9            10000    1   \n",
       "2       TR89012         328 2022-03-25        P5             4200    5   \n",
       "3       TR67395         328 2022-01-22        P8            16000    3   \n",
       "4       TR45738         328 2022-12-29        P2             3200    3   \n",
       "\n",
       "   totalamount  storeid   product_name  price_product       storename  \\\n",
       "0        30000       12       Crackers           7500  Prestasi Utama   \n",
       "1        10000        9        Yoghurt          10000          Lingga   \n",
       "2        21000        6       Thai Tea           4200          Lingga   \n",
       "3        48000       11            Oat          16000   Sinar Harapan   \n",
       "4         9600       11  Ginger Candy            3200   Sinar Harapan   \n",
       "\n",
       "  groupstore           type   latitude   longitude  age  gender  \\\n",
       "0   Prestasi  General Trade  -2,990934  104,756554   36       0   \n",
       "1     Lingga   Modern Trade  -3,654703  128,190643   36       0   \n",
       "2     Lingga   Modern Trade  -5,135399   119,42379   36       0   \n",
       "3   Prestasi  General Trade   0,533505  101,447403   36       0   \n",
       "4   Prestasi  General Trade   0,533505  101,447403   36       0   \n",
       "\n",
       "  marital_status  income  \n",
       "0        Married   10.53  \n",
       "1        Married   10.53  \n",
       "2        Married   10.53  \n",
       "3        Married   10.53  \n",
       "4        Married   10.53  "
      ]
     },
     "execution_count": 13,
     "metadata": {},
     "output_type": "execute_result"
    }
   ],
   "source": [
    "df['date'] = pd.to_datetime(df['date'],format='%d/%m/%Y', infer_datetime_format=True)\n",
    "df['income'] = df['income'].map(lambda x: float(x.replace(',','.')))\n",
    "df.head()"
   ]
  },
  {
   "cell_type": "markdown",
   "id": "25bb54bb-0abf-431b-99e2-de1761d838fa",
   "metadata": {},
   "source": [
    "### **📌 Data Imputation** ###\n",
    "\n",
    "After check Missing Value, there is 44 rows are Null in `marital_status`, we need do Data Imputation to fill Null Values"
   ]
  },
  {
   "cell_type": "code",
   "execution_count": 14,
   "id": "2ed29d16-1cb5-4371-87b7-568e85e04ed6",
   "metadata": {},
   "outputs": [
    {
     "data": {
      "text/plain": [
       "transactionid      0\n",
       "customerid         0\n",
       "date               0\n",
       "productid          0\n",
       "price_customers    0\n",
       "qty                0\n",
       "totalamount        0\n",
       "storeid            0\n",
       "product_name       0\n",
       "price_product      0\n",
       "storename          0\n",
       "groupstore         0\n",
       "type               0\n",
       "latitude           0\n",
       "longitude          0\n",
       "age                0\n",
       "gender             0\n",
       "marital_status     0\n",
       "income             0\n",
       "dtype: int64"
      ]
     },
     "execution_count": 14,
     "metadata": {},
     "output_type": "execute_result"
    }
   ],
   "source": [
    "# fill null values with mode method\n",
    "mode_marital_status = df['marital_status'].mode()[0]\n",
    "df['marital_status'].fillna(mode_marital_status, inplace = True)\n",
    "df.isna().sum()"
   ]
  },
  {
   "cell_type": "markdown",
   "id": "587ee18f-d37b-483d-b66f-c7dc3e686957",
   "metadata": {},
   "source": [
    "### **📌 New DataFrame for K-Means Modeling** ###"
   ]
  },
  {
   "cell_type": "code",
   "execution_count": 15,
   "id": "4c5b5b1f-6d25-4de3-ba38-8d457fa0da22",
   "metadata": {},
   "outputs": [
    {
     "data": {
      "text/html": [
       "<div>\n",
       "<style scoped>\n",
       "    .dataframe tbody tr th:only-of-type {\n",
       "        vertical-align: middle;\n",
       "    }\n",
       "\n",
       "    .dataframe tbody tr th {\n",
       "        vertical-align: top;\n",
       "    }\n",
       "\n",
       "    .dataframe thead th {\n",
       "        text-align: right;\n",
       "    }\n",
       "</style>\n",
       "<table border=\"1\" class=\"dataframe\">\n",
       "  <thead>\n",
       "    <tr style=\"text-align: right;\">\n",
       "      <th></th>\n",
       "      <th>transactionid</th>\n",
       "      <th>qty</th>\n",
       "      <th>totalamount</th>\n",
       "    </tr>\n",
       "    <tr>\n",
       "      <th>customerid</th>\n",
       "      <th></th>\n",
       "      <th></th>\n",
       "      <th></th>\n",
       "    </tr>\n",
       "  </thead>\n",
       "  <tbody>\n",
       "    <tr>\n",
       "      <th>1</th>\n",
       "      <td>17</td>\n",
       "      <td>60</td>\n",
       "      <td>623300</td>\n",
       "    </tr>\n",
       "    <tr>\n",
       "      <th>2</th>\n",
       "      <td>13</td>\n",
       "      <td>57</td>\n",
       "      <td>392300</td>\n",
       "    </tr>\n",
       "    <tr>\n",
       "      <th>3</th>\n",
       "      <td>15</td>\n",
       "      <td>56</td>\n",
       "      <td>446200</td>\n",
       "    </tr>\n",
       "    <tr>\n",
       "      <th>4</th>\n",
       "      <td>10</td>\n",
       "      <td>46</td>\n",
       "      <td>302500</td>\n",
       "    </tr>\n",
       "    <tr>\n",
       "      <th>5</th>\n",
       "      <td>7</td>\n",
       "      <td>27</td>\n",
       "      <td>268600</td>\n",
       "    </tr>\n",
       "  </tbody>\n",
       "</table>\n",
       "</div>"
      ],
      "text/plain": [
       "            transactionid  qty  totalamount\n",
       "customerid                                 \n",
       "1                      17   60       623300\n",
       "2                      13   57       392300\n",
       "3                      15   56       446200\n",
       "4                      10   46       302500\n",
       "5                       7   27       268600"
      ]
     },
     "execution_count": 15,
     "metadata": {},
     "output_type": "execute_result"
    }
   ],
   "source": [
    "df_clustering = df.groupby('customerid').agg({'transactionid' : 'count',\n",
    "                                          'qty' : 'sum',\n",
    "                                          'totalamount' : 'sum'})\n",
    "df_clustering.head()"
   ]
  },
  {
   "cell_type": "code",
   "execution_count": 16,
   "id": "14388d0c-7e25-47fd-b56c-ae27735e1219",
   "metadata": {},
   "outputs": [
    {
     "name": "stdout",
     "output_type": "stream",
     "text": [
      "Shape of data : (447, 3)\n",
      "Number of rows : 447\n",
      "Number of columns : 3\n"
     ]
    }
   ],
   "source": [
    "print(\"Shape of data :\", df_clustering.shape)\n",
    "print(\"Number of rows :\", df_clustering.shape[0])\n",
    "print(\"Number of columns :\", df_clustering.shape[1])"
   ]
  },
  {
   "cell_type": "markdown",
   "id": "319a777e-abe7-4a1f-843c-f62c1b674837",
   "metadata": {},
   "source": [
    "### **📌 Check Data Outlier** ###"
   ]
  },
  {
   "cell_type": "code",
   "execution_count": 17,
   "id": "4580e494-10d1-4597-a18e-00a3fd450187",
   "metadata": {},
   "outputs": [
    {
     "data": {
      "image/png": "[encoded data removed]",
      "text/plain": [
       "<Figure size 576x360 with 3 Axes>"
      ]
     },
     "metadata": {
      "needs_background": "light"
     },
     "output_type": "display_data"
    }
   ],
   "source": [
    "cols = ['transactionid', 'qty', 'totalamount']\n",
    "\n",
    "plt.figure(figsize=(8, 5))\n",
    "n = 3\n",
    "for i in range(0, len(cols)):\n",
    "    plt.subplot(n, math.ceil(len(cols)/n), i+1)\n",
    "    sns.boxplot(x=df_clustering[cols[i]], color='#afaf00')\n",
    "    plt.tight_layout()"
   ]
  },
  {
   "cell_type": "markdown",
   "id": "61d8fdf7-1d88-476f-baae-62d47b258b65",
   "metadata": {},
   "source": [
    "**Observation:**\n",
    "\n",
    "There is data outlier in `qty` and `totalamount`, but not too many and significant, therefore it does not need further processing"
   ]
  },
  {
   "cell_type": "markdown",
   "id": "f53a5ff1-f031-45bd-8f04-e6e378e11ad2",
   "metadata": {},
   "source": [
    "### **📌 Data Transformation** ###"
   ]
  },
  {
   "cell_type": "code",
   "execution_count": 18,
   "id": "afca396a-a9a5-4cde-b6d2-306393091d10",
   "metadata": {},
   "outputs": [
    {
     "data": {
      "text/html": [
       "<div>\n",
       "<style scoped>\n",
       "    .dataframe tbody tr th:only-of-type {\n",
       "        vertical-align: middle;\n",
       "    }\n",
       "\n",
       "    .dataframe tbody tr th {\n",
       "        vertical-align: top;\n",
       "    }\n",
       "\n",
       "    .dataframe thead th {\n",
       "        text-align: right;\n",
       "    }\n",
       "</style>\n",
       "<table border=\"1\" class=\"dataframe\">\n",
       "  <thead>\n",
       "    <tr style=\"text-align: right;\">\n",
       "      <th></th>\n",
       "      <th>transactionid</th>\n",
       "      <th>qty</th>\n",
       "      <th>totalamount</th>\n",
       "    </tr>\n",
       "  </thead>\n",
       "  <tbody>\n",
       "    <tr>\n",
       "      <th>0</th>\n",
       "      <td>1.779816</td>\n",
       "      <td>1.496527</td>\n",
       "      <td>2.094768</td>\n",
       "    </tr>\n",
       "    <tr>\n",
       "      <th>1</th>\n",
       "      <td>0.545884</td>\n",
       "      <td>1.261093</td>\n",
       "      <td>0.239269</td>\n",
       "    </tr>\n",
       "    <tr>\n",
       "      <th>2</th>\n",
       "      <td>1.162850</td>\n",
       "      <td>1.182615</td>\n",
       "      <td>0.672218</td>\n",
       "    </tr>\n",
       "    <tr>\n",
       "      <th>3</th>\n",
       "      <td>-0.379565</td>\n",
       "      <td>0.397833</td>\n",
       "      <td>-0.482047</td>\n",
       "    </tr>\n",
       "    <tr>\n",
       "      <th>4</th>\n",
       "      <td>-1.305014</td>\n",
       "      <td>-1.093251</td>\n",
       "      <td>-0.754347</td>\n",
       "    </tr>\n",
       "  </tbody>\n",
       "</table>\n",
       "</div>"
      ],
      "text/plain": [
       "   transactionid       qty  totalamount\n",
       "0       1.779816  1.496527     2.094768\n",
       "1       0.545884  1.261093     0.239269\n",
       "2       1.162850  1.182615     0.672218\n",
       "3      -0.379565  0.397833    -0.482047\n",
       "4      -1.305014 -1.093251    -0.754347"
      ]
     },
     "execution_count": 18,
     "metadata": {},
     "output_type": "execute_result"
    }
   ],
   "source": [
    "# Standardize the Data\n",
    "# Create a StandardScaler object\n",
    "scaler = StandardScaler()\n",
    "\n",
    "# Fit and transform the data in cluster_df\n",
    "df_clustering_std = scaler.fit_transform(df_clustering.values)\n",
    "\n",
    "# Convert the standardized data back to a DataFrame\n",
    "df_clustering_std = pd.DataFrame(df_clustering_std, columns=df_clustering.columns)\n",
    "\n",
    "# check the cluster_df_std data\n",
    "df_clustering_std.head()"
   ]
  },
  {
   "cell_type": "markdown",
   "id": "298a14ed-c634-4417-95a0-2acc49bdc149",
   "metadata": {},
   "source": [
    "## **💡 Clustering Model with K-Means Model** ##"
   ]
  },
  {
   "cell_type": "markdown",
   "id": "97cd0838-2d17-4e8e-9841-dead71762cf6",
   "metadata": {},
   "source": [
    "### **📌 Elbow Method** ###"
   ]
  },
  {
   "cell_type": "code",
   "execution_count": 19,
   "id": "699978d6-9baf-445f-ba7f-0d26905ae6a5",
   "metadata": {},
   "outputs": [
    {
     "data": {
      "image/png": "[encoded data removed]",
      "text/plain": [
       "<Figure size 720x360 with 1 Axes>"
      ]
     },
     "metadata": {
      "needs_background": "light"
     },
     "output_type": "display_data"
    }
   ],
   "source": [
    "# plot the elbow method to get best number of clusters\n",
    "wcss = [] # wcss is Within Cluster of Sum Squares\n",
    "for i in range(1, 11):\n",
    "    kmeans = KMeans(n_clusters=i, init='k-means++', random_state=42, n_init = 10)\n",
    "    kmeans.fit(df_clustering_std.values)\n",
    "    wcss.append(kmeans.inertia_)\n",
    "\n",
    "plt.figure(figsize=(10, 5))\n",
    "sns.set()\n",
    "plt.plot(range(1, 11), wcss, marker='o')\n",
    "plt.title('Elbow Method Graphs')\n",
    "plt.xlabel('Number of Clusters')\n",
    "plt.ylabel('WCSS')\n",
    "plt.show()"
   ]
  },
  {
   "cell_type": "markdown",
   "id": "3d2e208a-8a3c-44ed-b5b5-e57f77d7246d",
   "metadata": {},
   "source": [
    "**Observation:**\n",
    "\n",
    "The result of Elbow Method above shows that `the best suit number of cluster is 3 clusters`"
   ]
  },
  {
   "cell_type": "markdown",
   "id": "b7fb2633-aa01-4a92-b3d9-23a4e1affef4",
   "metadata": {},
   "source": [
    "### **📌 K-Means Model Segmentation** ###"
   ]
  },
  {
   "cell_type": "code",
   "execution_count": 21,
   "id": "9e4404c4-e865-4d1c-ae93-7dc91f78e14b",
   "metadata": {},
   "outputs": [
    {
     "data": {
      "text/html": [
       "<div>\n",
       "<style scoped>\n",
       "    .dataframe tbody tr th:only-of-type {\n",
       "        vertical-align: middle;\n",
       "    }\n",
       "\n",
       "    .dataframe tbody tr th {\n",
       "        vertical-align: top;\n",
       "    }\n",
       "\n",
       "    .dataframe thead th {\n",
       "        text-align: right;\n",
       "    }\n",
       "</style>\n",
       "<table border=\"1\" class=\"dataframe\">\n",
       "  <thead>\n",
       "    <tr style=\"text-align: right;\">\n",
       "      <th></th>\n",
       "      <th>transactionid</th>\n",
       "      <th>qty</th>\n",
       "      <th>totalamount</th>\n",
       "      <th>cluster</th>\n",
       "    </tr>\n",
       "    <tr>\n",
       "      <th>customerid</th>\n",
       "      <th></th>\n",
       "      <th></th>\n",
       "      <th></th>\n",
       "      <th></th>\n",
       "    </tr>\n",
       "  </thead>\n",
       "  <tbody>\n",
       "    <tr>\n",
       "      <th>1</th>\n",
       "      <td>17</td>\n",
       "      <td>60</td>\n",
       "      <td>623300</td>\n",
       "      <td>0</td>\n",
       "    </tr>\n",
       "    <tr>\n",
       "      <th>2</th>\n",
       "      <td>13</td>\n",
       "      <td>57</td>\n",
       "      <td>392300</td>\n",
       "      <td>0</td>\n",
       "    </tr>\n",
       "    <tr>\n",
       "      <th>3</th>\n",
       "      <td>15</td>\n",
       "      <td>56</td>\n",
       "      <td>446200</td>\n",
       "      <td>0</td>\n",
       "    </tr>\n",
       "    <tr>\n",
       "      <th>4</th>\n",
       "      <td>10</td>\n",
       "      <td>46</td>\n",
       "      <td>302500</td>\n",
       "      <td>1</td>\n",
       "    </tr>\n",
       "    <tr>\n",
       "      <th>5</th>\n",
       "      <td>7</td>\n",
       "      <td>27</td>\n",
       "      <td>268600</td>\n",
       "      <td>2</td>\n",
       "    </tr>\n",
       "  </tbody>\n",
       "</table>\n",
       "</div>"
      ],
      "text/plain": [
       "            transactionid  qty  totalamount  cluster\n",
       "customerid                                          \n",
       "1                      17   60       623300        0\n",
       "2                      13   57       392300        0\n",
       "3                      15   56       446200        0\n",
       "4                      10   46       302500        1\n",
       "5                       7   27       268600        2"
      ]
     },
     "execution_count": 21,
     "metadata": {},
     "output_type": "execute_result"
    }
   ],
   "source": [
    "kmeans_3 = KMeans(n_clusters = 3, init = 'k-means++', random_state = 0, n_init = 10)\n",
    "clusters = kmeans_3.fit_predict(df_clustering_std)\n",
    "df_clustering['cluster'] = clusters\n",
    "\n",
    "df_clustering.head()"
   ]
  },
  {
   "cell_type": "code",
   "execution_count": 22,
   "id": "6e62d030-e11b-4d7c-b50c-d3ffc02f3b6a",
   "metadata": {},
   "outputs": [
    {
     "data": {
      "image/png": "[encoded data removed]",
      "text/plain": [
       "<Figure size 720x432 with 1 Axes>"
      ]
     },
     "metadata": {},
     "output_type": "display_data"
    }
   ],
   "source": [
    "df_clustering['cluster'] = df_clustering['cluster'].astype('category')\n",
    "colors=['purple', 'orange', 'green']\n",
    "\n",
    "plt.figure(figsize=(10, 6))\n",
    "sns.scatterplot(x='qty', y='totalamount', data=df_clustering, hue='cluster', palette=colors, s=70)\n",
    "plt.xlabel('Quantity')\n",
    "plt.ylabel('Total Amount')\n",
    "plt.title('KMeans Clustering Customer Segmentation')\n",
    "plt.legend(title='Cluster')\n",
    "plt.show()"
   ]
  },
  {
   "cell_type": "markdown",
   "id": "befd509e-0873-448b-9f44-b60de884445e",
   "metadata": {},
   "source": [
    "### **📌 K-Means Model Segmentation using PCA** ###"
   ]
  },
  {
   "cell_type": "code",
   "execution_count": 23,
   "id": "24452af0-72e1-49f9-a045-0ede839cf5e3",
   "metadata": {},
   "outputs": [
    {
     "data": {
      "text/html": [
       "<div>\n",
       "<style scoped>\n",
       "    .dataframe tbody tr th:only-of-type {\n",
       "        vertical-align: middle;\n",
       "    }\n",
       "\n",
       "    .dataframe tbody tr th {\n",
       "        vertical-align: top;\n",
       "    }\n",
       "\n",
       "    .dataframe thead th {\n",
       "        text-align: right;\n",
       "    }\n",
       "</style>\n",
       "<table border=\"1\" class=\"dataframe\">\n",
       "  <thead>\n",
       "    <tr style=\"text-align: right;\">\n",
       "      <th></th>\n",
       "      <th>transactionid</th>\n",
       "      <th>qty</th>\n",
       "      <th>totalamount</th>\n",
       "      <th>cluster</th>\n",
       "    </tr>\n",
       "  </thead>\n",
       "  <tbody>\n",
       "    <tr>\n",
       "      <th>0</th>\n",
       "      <td>1.779816</td>\n",
       "      <td>1.496527</td>\n",
       "      <td>2.094768</td>\n",
       "      <td>0</td>\n",
       "    </tr>\n",
       "    <tr>\n",
       "      <th>1</th>\n",
       "      <td>0.545884</td>\n",
       "      <td>1.261093</td>\n",
       "      <td>0.239269</td>\n",
       "      <td>0</td>\n",
       "    </tr>\n",
       "    <tr>\n",
       "      <th>2</th>\n",
       "      <td>1.162850</td>\n",
       "      <td>1.182615</td>\n",
       "      <td>0.672218</td>\n",
       "      <td>0</td>\n",
       "    </tr>\n",
       "    <tr>\n",
       "      <th>3</th>\n",
       "      <td>-0.379565</td>\n",
       "      <td>0.397833</td>\n",
       "      <td>-0.482047</td>\n",
       "      <td>1</td>\n",
       "    </tr>\n",
       "    <tr>\n",
       "      <th>4</th>\n",
       "      <td>-1.305014</td>\n",
       "      <td>-1.093251</td>\n",
       "      <td>-0.754347</td>\n",
       "      <td>2</td>\n",
       "    </tr>\n",
       "  </tbody>\n",
       "</table>\n",
       "</div>"
      ],
      "text/plain": [
       "   transactionid       qty  totalamount  cluster\n",
       "0       1.779816  1.496527     2.094768        0\n",
       "1       0.545884  1.261093     0.239269        0\n",
       "2       1.162850  1.182615     0.672218        0\n",
       "3      -0.379565  0.397833    -0.482047        1\n",
       "4      -1.305014 -1.093251    -0.754347        2"
      ]
     },
     "execution_count": 23,
     "metadata": {},
     "output_type": "execute_result"
    }
   ],
   "source": [
    "# Kmeans n_cluster = 3\n",
    "#Clustering Kmeans\n",
    "kmeans_pca = KMeans(n_clusters=3,init='k-means++',max_iter=300,n_init=10,random_state=0)\n",
    "kmeans_pca.fit(df_clustering_std)\n",
    "\n",
    "df_nclus3 = pd.DataFrame(data=df_clustering_std, columns=df_clustering.columns)\n",
    "df_nclus3['cluster'] = kmeans_pca.labels_\n",
    "df_nclus3.head()"
   ]
  },
  {
   "cell_type": "code",
   "execution_count": 24,
   "id": "dcc8cb9d-6c34-4457-8479-3707b31ed13d",
   "metadata": {},
   "outputs": [
    {
     "data": {
      "text/html": [
       "<div>\n",
       "<style scoped>\n",
       "    .dataframe tbody tr th:only-of-type {\n",
       "        vertical-align: middle;\n",
       "    }\n",
       "\n",
       "    .dataframe tbody tr th {\n",
       "        vertical-align: top;\n",
       "    }\n",
       "\n",
       "    .dataframe thead th {\n",
       "        text-align: right;\n",
       "    }\n",
       "</style>\n",
       "<table border=\"1\" class=\"dataframe\">\n",
       "  <thead>\n",
       "    <tr style=\"text-align: right;\">\n",
       "      <th></th>\n",
       "      <th>count</th>\n",
       "      <th>mean</th>\n",
       "      <th>std</th>\n",
       "      <th>min</th>\n",
       "      <th>25%</th>\n",
       "      <th>50%</th>\n",
       "      <th>75%</th>\n",
       "      <th>max</th>\n",
       "    </tr>\n",
       "  </thead>\n",
       "  <tbody>\n",
       "    <tr>\n",
       "      <th>pc1</th>\n",
       "      <td>447.0</td>\n",
       "      <td>-5.141301e-17</td>\n",
       "      <td>1.661646</td>\n",
       "      <td>-4.120551</td>\n",
       "      <td>-1.132975</td>\n",
       "      <td>-0.123870</td>\n",
       "      <td>1.081022</td>\n",
       "      <td>5.351262</td>\n",
       "    </tr>\n",
       "    <tr>\n",
       "      <th>pc2</th>\n",
       "      <td>447.0</td>\n",
       "      <td>-3.576557e-17</td>\n",
       "      <td>0.386276</td>\n",
       "      <td>-1.279946</td>\n",
       "      <td>-0.242372</td>\n",
       "      <td>-0.003848</td>\n",
       "      <td>0.246496</td>\n",
       "      <td>1.348982</td>\n",
       "    </tr>\n",
       "    <tr>\n",
       "      <th>cluster</th>\n",
       "      <td>447.0</td>\n",
       "      <td>1.055928e+00</td>\n",
       "      <td>0.739048</td>\n",
       "      <td>0.000000</td>\n",
       "      <td>1.000000</td>\n",
       "      <td>1.000000</td>\n",
       "      <td>2.000000</td>\n",
       "      <td>2.000000</td>\n",
       "    </tr>\n",
       "  </tbody>\n",
       "</table>\n",
       "</div>"
      ],
      "text/plain": [
       "         count          mean       std       min       25%       50%  \\\n",
       "pc1      447.0 -5.141301e-17  1.661646 -4.120551 -1.132975 -0.123870   \n",
       "pc2      447.0 -3.576557e-17  0.386276 -1.279946 -0.242372 -0.003848   \n",
       "cluster  447.0  1.055928e+00  0.739048  0.000000  1.000000  1.000000   \n",
       "\n",
       "              75%       max  \n",
       "pc1      1.081022  5.351262  \n",
       "pc2      0.246496  1.348982  \n",
       "cluster  2.000000  2.000000  "
      ]
     },
     "execution_count": 24,
     "metadata": {},
     "output_type": "execute_result"
    }
   ],
   "source": [
    "#PCA\n",
    "clust_pca = PCA(n_components=2).fit_transform(df_clustering_std)\n",
    "df_clust_pca = pd.DataFrame(data=clust_pca,columns=['pc1','pc2'])\n",
    "df_clust_pca['cluster'] = df_nclus3['cluster']\n",
    "df_clust_pca.describe().T"
   ]
  },
  {
   "cell_type": "code",
   "execution_count": 27,
   "id": "82882b44-063a-4920-b7be-049e9a0f758f",
   "metadata": {},
   "outputs": [
    {
     "data": {
      "image/png": "[encoded data removed]",
      "text/plain": [
       "<Figure size 720x576 with 2 Axes>"
      ]
     },
     "metadata": {},
     "output_type": "display_data"
    }
   ],
   "source": [
    "#PCA plot\n",
    "colors=['purple', 'orange', 'green']\n",
    "fig,ax = plt.subplots(2,1,figsize=(10,8))\n",
    "sns.scatterplot(data=df_clust_pca,x='pc1',y='pc2',hue='cluster',palette=colors,ax=ax[0])\n",
    "ax[0].set_title('PCA scatter')\n",
    "sns.kdeplot(data=df_clust_pca,x='pc1',hue='cluster',palette=colors,fill=True,ax=ax[1])\n",
    "ax[1].set_title('PCA kde')\n",
    "plt.tight_layout()\n",
    "plt.show()"
   ]
  },
  {
   "cell_type": "markdown",
   "id": "658ce716-e81a-4737-962c-f295d4930fd8",
   "metadata": {},
   "source": [
    "### **📌 Silhoutte Score** ###"
   ]
  },
  {
   "cell_type": "code",
   "execution_count": 28,
   "id": "15537040-a887-4c0f-b173-6460ce29a292",
   "metadata": {},
   "outputs": [
    {
     "data": {
      "image/png": "[encoded data removed]",
      "text/plain": [
       "<Figure size 720x360 with 1 Axes>"
      ]
     },
     "metadata": {},
     "output_type": "display_data"
    }
   ],
   "source": [
    "from sklearn.metrics import silhouette_score\n",
    "\n",
    "n_clust = list(range(2,11))\n",
    "silhouette_avg = []\n",
    "for i in n_clust:\n",
    "    kmeans = KMeans(n_clusters=i).fit(df_clustering_std)\n",
    "    preds = kmeans.predict(df_clustering_std)\n",
    "    score_euclidean = silhouette_score(df_clustering_std, preds, metric='euclidean')\n",
    "    silhouette_avg.append(score_euclidean)\n",
    "\n",
    "plt.figure(figsize=(10, 5))\n",
    "sns.set()\n",
    "plt.plot(range(2, 11), silhouette_avg, marker='o')\n",
    "plt.title('Silhoutte Evaluation Score')\n",
    "plt.xlabel('Number of Clusters')\n",
    "plt.show()"
   ]
  },
  {
   "cell_type": "markdown",
   "id": "fb392631-372d-4149-841c-8b87dc9437f7",
   "metadata": {},
   "source": [
    "### **📌 RFM Analysis** ###"
   ]
  },
  {
   "cell_type": "code",
   "execution_count": 33,
   "id": "000c224f-b5fa-49e8-a6d1-95833be64526",
   "metadata": {},
   "outputs": [],
   "source": [
    "df_clustering['cluster'] = kmeans_3.labels_\n",
    "\n",
    "df['recency'] = (pd.to_datetime('2023-01-01') - df['date']).dt.days.astype('int')\n",
    "df_recency = df.groupby('customerid').agg({'recency':'min'})\n",
    "\n",
    "df_rfm = df_clustering.copy()\n",
    "df_rfm['recency'] = df_recency['recency']"
   ]
  },
  {
   "cell_type": "code",
   "execution_count": 35,
   "id": "e3f43dda-b402-4205-8a8b-b5f0b219258b",
   "metadata": {},
   "outputs": [
    {
     "data": {
      "image/png": "[encoded data removed]",
      "text/plain": [
       "<Figure size 720x720 with 3 Axes>"
      ]
     },
     "metadata": {},
     "output_type": "display_data"
    }
   ],
   "source": [
    "colors=['purple', 'orange', 'green']\n",
    "fig, ax = plt.subplots(3,1,figsize=(10,10))\n",
    "sns.histplot(data=df_rfm,x='recency',hue='cluster',palette=colors,ax=ax[0],kde=True)\n",
    "ax[0].set_title('Recency')\n",
    "sns.histplot(data=df_rfm,x='transactionid',hue='cluster',palette=colors,ax=ax[1],kde=True)\n",
    "ax[1].set_title('Frequency')\n",
    "sns.histplot(data=df_rfm,x='totalamount',hue='cluster',palette=colors,ax=ax[2],kde=True)\n",
    "ax[2].set_title('Monetary')\n",
    "\n",
    "plt.tight_layout()\n",
    "plt.show()"
   ]
  },
  {
   "cell_type": "code",
   "execution_count": 44,
   "id": "f9c480de-3e51-48cb-95a0-c8b4331fa48c",
   "metadata": {},
   "outputs": [
    {
     "data": {
      "text/html": [
       "<div>\n",
       "<style scoped>\n",
       "    .dataframe tbody tr th:only-of-type {\n",
       "        vertical-align: middle;\n",
       "    }\n",
       "\n",
       "    .dataframe tbody tr th {\n",
       "        vertical-align: top;\n",
       "    }\n",
       "\n",
       "    .dataframe thead tr th {\n",
       "        text-align: left;\n",
       "    }\n",
       "\n",
       "    .dataframe thead tr:last-of-type th {\n",
       "        text-align: right;\n",
       "    }\n",
       "</style>\n",
       "<table border=\"1\" class=\"dataframe\">\n",
       "  <thead>\n",
       "    <tr>\n",
       "      <th></th>\n",
       "      <th colspan=\"4\" halign=\"left\">transactionid</th>\n",
       "      <th colspan=\"4\" halign=\"left\">qty</th>\n",
       "      <th colspan=\"4\" halign=\"left\">totalamount</th>\n",
       "      <th colspan=\"4\" halign=\"left\">recency</th>\n",
       "    </tr>\n",
       "    <tr>\n",
       "      <th></th>\n",
       "      <th>mean</th>\n",
       "      <th>median</th>\n",
       "      <th>max</th>\n",
       "      <th>min</th>\n",
       "      <th>mean</th>\n",
       "      <th>median</th>\n",
       "      <th>max</th>\n",
       "      <th>min</th>\n",
       "      <th>mean</th>\n",
       "      <th>median</th>\n",
       "      <th>max</th>\n",
       "      <th>min</th>\n",
       "      <th>mean</th>\n",
       "      <th>median</th>\n",
       "      <th>max</th>\n",
       "      <th>min</th>\n",
       "    </tr>\n",
       "    <tr>\n",
       "      <th>cluster</th>\n",
       "      <th></th>\n",
       "      <th></th>\n",
       "      <th></th>\n",
       "      <th></th>\n",
       "      <th></th>\n",
       "      <th></th>\n",
       "      <th></th>\n",
       "      <th></th>\n",
       "      <th></th>\n",
       "      <th></th>\n",
       "      <th></th>\n",
       "      <th></th>\n",
       "      <th></th>\n",
       "      <th></th>\n",
       "      <th></th>\n",
       "      <th></th>\n",
       "    </tr>\n",
       "  </thead>\n",
       "  <tbody>\n",
       "    <tr>\n",
       "      <th>0</th>\n",
       "      <td>15.363636</td>\n",
       "      <td>15.0</td>\n",
       "      <td>21</td>\n",
       "      <td>11</td>\n",
       "      <td>57.636364</td>\n",
       "      <td>57.0</td>\n",
       "      <td>79</td>\n",
       "      <td>44</td>\n",
       "      <td>524504.545455</td>\n",
       "      <td>510550.0</td>\n",
       "      <td>846700</td>\n",
       "      <td>365000</td>\n",
       "      <td>24.336364</td>\n",
       "      <td>16.0</td>\n",
       "      <td>129</td>\n",
       "      <td>2</td>\n",
       "    </tr>\n",
       "    <tr>\n",
       "      <th>1</th>\n",
       "      <td>11.282178</td>\n",
       "      <td>11.0</td>\n",
       "      <td>15</td>\n",
       "      <td>7</td>\n",
       "      <td>41.188119</td>\n",
       "      <td>41.0</td>\n",
       "      <td>54</td>\n",
       "      <td>30</td>\n",
       "      <td>363267.326733</td>\n",
       "      <td>362400.0</td>\n",
       "      <td>516600</td>\n",
       "      <td>257600</td>\n",
       "      <td>33.712871</td>\n",
       "      <td>25.0</td>\n",
       "      <td>199</td>\n",
       "      <td>1</td>\n",
       "    </tr>\n",
       "    <tr>\n",
       "      <th>2</th>\n",
       "      <td>7.785185</td>\n",
       "      <td>8.0</td>\n",
       "      <td>13</td>\n",
       "      <td>3</td>\n",
       "      <td>26.933333</td>\n",
       "      <td>28.0</td>\n",
       "      <td>39</td>\n",
       "      <td>10</td>\n",
       "      <td>229388.888889</td>\n",
       "      <td>235300.0</td>\n",
       "      <td>329300</td>\n",
       "      <td>92100</td>\n",
       "      <td>42.977778</td>\n",
       "      <td>31.0</td>\n",
       "      <td>191</td>\n",
       "      <td>1</td>\n",
       "    </tr>\n",
       "  </tbody>\n",
       "</table>\n",
       "</div>"
      ],
      "text/plain": [
       "        transactionid                       qty                   totalamount  \\\n",
       "                 mean median max min       mean median max min           mean   \n",
       "cluster                                                                         \n",
       "0           15.363636   15.0  21  11  57.636364   57.0  79  44  524504.545455   \n",
       "1           11.282178   11.0  15   7  41.188119   41.0  54  30  363267.326733   \n",
       "2            7.785185    8.0  13   3  26.933333   28.0  39  10  229388.888889   \n",
       "\n",
       "                                     recency                  \n",
       "           median     max     min       mean median  max min  \n",
       "cluster                                                       \n",
       "0        510550.0  846700  365000  24.336364   16.0  129   2  \n",
       "1        362400.0  516600  257600  33.712871   25.0  199   1  \n",
       "2        235300.0  329300   92100  42.977778   31.0  191   1  "
      ]
     },
     "metadata": {},
     "output_type": "display_data"
    }
   ],
   "source": [
    "display(df_rfm.groupby('cluster').agg(['mean','median', 'max', 'min']))"
   ]
  },
  {
   "cell_type": "markdown",
   "id": "acd983b7-78ce-407a-84b8-802ef19ed2c1",
   "metadata": {},
   "source": [
    "**Observation:**\n",
    "\n",
    "Based on the results of the RFM analysis above, customer characteristics based on each cluster:\n",
    "\n",
    "- **Clusters 0:**\n",
    "    - Customers in this cluster have `the lowest recency with an average of around 24 days`. Based on this, it can be concluded that customers in cluster 0 tend to shop more often because customers are able to shop again in less than 1 month.\n",
    "    - The frequency of purchases made by customers in this cluster tends to be more frequent and can be said to be `the most frequent of all clusters`. This can be seen from the number of transactions made by customers with an `average of 15 times`\n",
    "    - `Total Amount spent on shopping in this cluster is among the highest` with an average `total amount of around $524,500`.\n",
    "\n",
    "Based on this information, customers in Cluster 0 can be summed up as **Priority Customers (Tier 1)**\n",
    "\n",
    "**Business Recommendation for Cluster 0 (Priority Customers)**\n",
    "\n",
    "    Customers in this cluster have the lowest recency, very active for shopping and spending very much money. So we can give recommendation:\n",
    "    - Give Voucher/Rewards\n",
    "    - Give Promo Bundling/Special Offer Mix & Match bundling strategy  \n",
    "    \n",
    "\n",
    "- **Cluster 1:**\n",
    "    - Customers in Cluster 1 have an `average recency/last shopping time of around 33 days`. Based on this, it can be said that customers in this cluster have a `slightly longer recency` and will return to shopping again after more than 1 month.\n",
    "    - The frequency of purchases made by customers in this cluster can be said to be `quite frequent`, as can be seen from the `total transactions with an average shopping frequency of 11 times`.\n",
    "    - Total Amount spent on shopping in this cluster can be said to be `quite a lot` with an `average total amount of around $363,000`.\n",
    "    \n",
    "Based on this information, customers in Cluster 1 can be summed up as **Potential Customers (Tier 2)**\n",
    "\n",
    "**Business Recommendation for Cluster 1 (Potential Customers)**\n",
    "\n",
    "    Customers in this cluster have slightly longer recency, quite active for shopping and spending quite much money. So we can give recommendation:\n",
    "        - Give Discount/Flash Sale\n",
    "        - Promo Bundling/Special Offer Buy 1 Get 1 strategy\n",
    "        \n",
    "\n",
    "- **Cluster 2:**\n",
    "    - Customers in Cluster 2 have an `average recency/last shopping time of around 43 days`. Based on this, it can be said that customers in this cluster have `the longest recency` and will return to shopping again after more than 1.5 months.\n",
    "    - The frequency of purchases made by customers in this cluster can be said to be `the least frequent` as seen from the `total transactions with an average shopping frequency of 8 times`.\n",
    "    - Total Amount spent on shopping in this cluster can be said to be `the least spent` with an `average total amount of around $229,300`.\n",
    "    \n",
    "Based on this information, customers in Cluster 1 can be summed up as **Need Attention Customers (Tier 3)**\n",
    "\n",
    "**Business Recommendation for Cluster 2 (Need Attention Customers)**\n",
    "\n",
    "    Customers in this cluster have the longest recency, quite active for shopping and spending quite much money. So we can give recommendation:\n",
    "        - Give Discount/Flash Sale\n",
    "        - Promo Bundling/Special Offer Buy 1 Get 1 and Limited Edition Bundling (giving urgency sense to purchase)"
   ]
  },
  {
   "cell_type": "markdown",
   "id": "beef2a63-a2dc-4393-b9e0-be9005aa5010",
   "metadata": {},
   "source": [
    "## **💡 Business Insight** ##"
   ]
  },
  {
   "cell_type": "markdown",
   "id": "17a100f4-d648-4d21-8896-8746d5a321fd",
   "metadata": {},
   "source": [
    "### **📌 Statistics Info of `transactionid` `qty` `totalamount`** ###"
   ]
  },
  {
   "cell_type": "code",
   "execution_count": 36,
   "id": "f328d6ca-2d70-47c6-bf52-5e6da744a625",
   "metadata": {},
   "outputs": [
    {
     "data": {
      "text/html": [
       "<div>\n",
       "<style scoped>\n",
       "    .dataframe tbody tr th:only-of-type {\n",
       "        vertical-align: middle;\n",
       "    }\n",
       "\n",
       "    .dataframe tbody tr th {\n",
       "        vertical-align: top;\n",
       "    }\n",
       "\n",
       "    .dataframe thead tr th {\n",
       "        text-align: left;\n",
       "    }\n",
       "\n",
       "    .dataframe thead tr:last-of-type th {\n",
       "        text-align: right;\n",
       "    }\n",
       "</style>\n",
       "<table border=\"1\" class=\"dataframe\">\n",
       "  <thead>\n",
       "    <tr>\n",
       "      <th></th>\n",
       "      <th colspan=\"4\" halign=\"left\">transactionid</th>\n",
       "      <th colspan=\"4\" halign=\"left\">qty</th>\n",
       "      <th colspan=\"4\" halign=\"left\">totalamount</th>\n",
       "    </tr>\n",
       "    <tr>\n",
       "      <th></th>\n",
       "      <th>mean</th>\n",
       "      <th>median</th>\n",
       "      <th>max</th>\n",
       "      <th>min</th>\n",
       "      <th>mean</th>\n",
       "      <th>median</th>\n",
       "      <th>max</th>\n",
       "      <th>min</th>\n",
       "      <th>mean</th>\n",
       "      <th>median</th>\n",
       "      <th>max</th>\n",
       "      <th>min</th>\n",
       "    </tr>\n",
       "    <tr>\n",
       "      <th>cluster</th>\n",
       "      <th></th>\n",
       "      <th></th>\n",
       "      <th></th>\n",
       "      <th></th>\n",
       "      <th></th>\n",
       "      <th></th>\n",
       "      <th></th>\n",
       "      <th></th>\n",
       "      <th></th>\n",
       "      <th></th>\n",
       "      <th></th>\n",
       "      <th></th>\n",
       "    </tr>\n",
       "  </thead>\n",
       "  <tbody>\n",
       "    <tr>\n",
       "      <th>0</th>\n",
       "      <td>15.363636</td>\n",
       "      <td>15.0</td>\n",
       "      <td>21</td>\n",
       "      <td>11</td>\n",
       "      <td>57.636364</td>\n",
       "      <td>57.0</td>\n",
       "      <td>79</td>\n",
       "      <td>44</td>\n",
       "      <td>524504.545455</td>\n",
       "      <td>510550.0</td>\n",
       "      <td>846700</td>\n",
       "      <td>365000</td>\n",
       "    </tr>\n",
       "    <tr>\n",
       "      <th>1</th>\n",
       "      <td>11.282178</td>\n",
       "      <td>11.0</td>\n",
       "      <td>15</td>\n",
       "      <td>7</td>\n",
       "      <td>41.188119</td>\n",
       "      <td>41.0</td>\n",
       "      <td>54</td>\n",
       "      <td>30</td>\n",
       "      <td>363267.326733</td>\n",
       "      <td>362400.0</td>\n",
       "      <td>516600</td>\n",
       "      <td>257600</td>\n",
       "    </tr>\n",
       "    <tr>\n",
       "      <th>2</th>\n",
       "      <td>7.785185</td>\n",
       "      <td>8.0</td>\n",
       "      <td>13</td>\n",
       "      <td>3</td>\n",
       "      <td>26.933333</td>\n",
       "      <td>28.0</td>\n",
       "      <td>39</td>\n",
       "      <td>10</td>\n",
       "      <td>229388.888889</td>\n",
       "      <td>235300.0</td>\n",
       "      <td>329300</td>\n",
       "      <td>92100</td>\n",
       "    </tr>\n",
       "  </tbody>\n",
       "</table>\n",
       "</div>"
      ],
      "text/plain": [
       "        transactionid                       qty                   totalamount  \\\n",
       "                 mean median max min       mean median max min           mean   \n",
       "cluster                                                                         \n",
       "0           15.363636   15.0  21  11  57.636364   57.0  79  44  524504.545455   \n",
       "1           11.282178   11.0  15   7  41.188119   41.0  54  30  363267.326733   \n",
       "2            7.785185    8.0  13   3  26.933333   28.0  39  10  229388.888889   \n",
       "\n",
       "                                   \n",
       "           median     max     min  \n",
       "cluster                            \n",
       "0        510550.0  846700  365000  \n",
       "1        362400.0  516600  257600  \n",
       "2        235300.0  329300   92100  "
      ]
     },
     "metadata": {},
     "output_type": "display_data"
    }
   ],
   "source": [
    "display(df_clustering.groupby('cluster').agg(['mean','median', 'max', 'min']))"
   ]
  },
  {
   "cell_type": "markdown",
   "id": "c8f4e243-2a63-470d-bb20-1fa2f523bb96",
   "metadata": {},
   "source": [
    "### **📌 Total Customer in Each Cluster** ###"
   ]
  },
  {
   "cell_type": "code",
   "execution_count": 37,
   "id": "2c24064a-8b9b-4f95-8f22-8af921a297e7",
   "metadata": {},
   "outputs": [
    {
     "data": {
      "text/html": [
       "<div>\n",
       "<style scoped>\n",
       "    .dataframe tbody tr th:only-of-type {\n",
       "        vertical-align: middle;\n",
       "    }\n",
       "\n",
       "    .dataframe tbody tr th {\n",
       "        vertical-align: top;\n",
       "    }\n",
       "\n",
       "    .dataframe thead th {\n",
       "        text-align: right;\n",
       "    }\n",
       "</style>\n",
       "<table border=\"1\" class=\"dataframe\">\n",
       "  <thead>\n",
       "    <tr style=\"text-align: right;\">\n",
       "      <th></th>\n",
       "      <th>cluster</th>\n",
       "      <th>total_customers</th>\n",
       "      <th>sum_customers</th>\n",
       "      <th>percentage</th>\n",
       "    </tr>\n",
       "  </thead>\n",
       "  <tbody>\n",
       "    <tr>\n",
       "      <th>0</th>\n",
       "      <td>0</td>\n",
       "      <td>110</td>\n",
       "      <td>447</td>\n",
       "      <td>24.61</td>\n",
       "    </tr>\n",
       "    <tr>\n",
       "      <th>1</th>\n",
       "      <td>1</td>\n",
       "      <td>202</td>\n",
       "      <td>447</td>\n",
       "      <td>45.19</td>\n",
       "    </tr>\n",
       "    <tr>\n",
       "      <th>2</th>\n",
       "      <td>2</td>\n",
       "      <td>135</td>\n",
       "      <td>447</td>\n",
       "      <td>30.20</td>\n",
       "    </tr>\n",
       "  </tbody>\n",
       "</table>\n",
       "</div>"
      ],
      "text/plain": [
       "   cluster  total_customers  sum_customers  percentage\n",
       "0        0              110            447       24.61\n",
       "1        1              202            447       45.19\n",
       "2        2              135            447       30.20"
      ]
     },
     "execution_count": 37,
     "metadata": {},
     "output_type": "execute_result"
    }
   ],
   "source": [
    "df_total_customer = df_clustering.groupby('cluster').agg({'qty':'count'}).reset_index()\n",
    "df_total_customer = df_total_customer.rename(columns={'qty':'total_customers'})\n",
    "df_total_customer['sum_customers'] = df_total_customer['total_customers'].sum()\n",
    "df_total_customer['percentage'] = round((df_total_customer['total_customers']/df_total_customer['sum_customers'])*100, 2)\n",
    "df_total_customer"
   ]
  },
  {
   "cell_type": "code",
   "execution_count": 38,
   "id": "395d23cf-86c6-4423-816a-e3445968e1bf",
   "metadata": {},
   "outputs": [
    {
     "data": {
      "image/png": "[encoded data removed]",
      "text/plain": [
       "<Figure size 576x432 with 1 Axes>"
      ]
     },
     "metadata": {},
     "output_type": "display_data"
    }
   ],
   "source": [
    "colors = ['purple', 'orange', 'green']\n",
    "fig, ax = plt.subplots(figsize=(8, 6))\n",
    "plt.title(\"Total Customers Each Cluster\", fontsize=15, color='black', weight='bold', pad=15)\n",
    "sns.barplot(x='cluster', y='total_customers', data=df_total_customer, edgecolor='black', palette=colors)\n",
    "\n",
    "plt.xlabel('Clusters', fontsize=11)\n",
    "plt.ylabel('Total Customer', fontsize=11)\n",
    "plt.bar_label(ax.containers[0], padding=2)\n",
    "plt.bar_label(ax.containers[0], ['24.61%', '45.19%', '30.20%'], label_type='center', color='white', weight='bold')\n",
    "\n",
    "sns.despine()\n",
    "plt.tight_layout()"
   ]
  },
  {
   "cell_type": "markdown",
   "id": "e4cffe02-659f-413a-92a2-8ecfa92a47b2",
   "metadata": {},
   "source": [
    "**Observation:**\n",
    "\n",
    "Based on barplot above, it shows that **Cluster 1** has the highest Total Customer with percentage of **45.19%**, then followed by **Cluster 2** has Total Customer with percentage of **30.20%** and **Cluster 0** has Total Customer with percentage of **24.61%**."
   ]
  },
  {
   "cell_type": "markdown",
   "id": "095d1059-c41c-4acc-a1e2-1e332005f031",
   "metadata": {},
   "source": [
    "### **📌 Customer Segmentation based on `transactionid` `qty` `totalamount`** ###"
   ]
  },
  {
   "cell_type": "code",
   "execution_count": 39,
   "id": "dd514b23-3c4f-4512-96d7-1399329776bf",
   "metadata": {},
   "outputs": [
    {
     "data": {
      "image/png": "[encoded data removed]",
      "text/plain": [
       "<Figure size 1080x1296 with 3 Axes>"
      ]
     },
     "metadata": {},
     "output_type": "display_data"
    }
   ],
   "source": [
    "df_clust = df_clustering.copy()\n",
    "clust = df_clust.columns.drop('cluster')\n",
    "\n",
    "colors = ['purple', 'orange', 'green']\n",
    "plt.figure(figsize= (15, 18))\n",
    "for i in range(len(clust)):\n",
    "    plt.subplot(2, 3, i+1)\n",
    "    sns.boxplot(x=df_clustering['cluster'], y=df_clustering[clust[i]], palette=colors)\n",
    "    plt.tight_layout()"
   ]
  },
  {
   "cell_type": "markdown",
   "id": "e40b0184-470a-4547-9196-8af3f694c0dd",
   "metadata": {},
   "source": [
    "**Observation:**\n",
    "\n",
    "Based on the Boxplot above, the information that can be concluded is:\n",
    "- "
   ]
  },
  {
   "cell_type": "markdown",
   "id": "88dce0d1-a8d2-48f4-b65b-05cd0c611034",
   "metadata": {},
   "source": [
    "### **📌 Age VS Customer Segmentation** ###"
   ]
  },
  {
   "cell_type": "code",
   "execution_count": 40,
   "id": "76333db4-e26c-485b-915d-02c658b6e168",
   "metadata": {},
   "outputs": [
    {
     "data": {
      "text/plain": [
       "Text(0.5, 1.0, 'Age VS Customer Segmentation')"
      ]
     },
     "execution_count": 40,
     "metadata": {},
     "output_type": "execute_result"
    },
    {
     "data": {
      "image/png": "[encoded data removed]",
      "text/plain": [
       "<Figure size 360x432 with 1 Axes>"
      ]
     },
     "metadata": {},
     "output_type": "display_data"
    }
   ],
   "source": [
    "colors = ['purple', 'orange', 'green']\n",
    "plt.figure(figsize= (5, 6))\n",
    "sns.boxplot(x=df_clustering['cluster'], y=df['age'], palette=colors)\n",
    "plt.tight_layout()\n",
    "\n",
    "plt.title(\"Age VS Customer Segmentation\", fontsize=15, fontweight=\"bold\")"
   ]
  },
  {
   "cell_type": "markdown",
   "id": "11651eb1-0b3d-4d27-a9f5-175775fc94e1",
   "metadata": {},
   "source": [
    "### **📌 Income VS Customer Segmentation** ###"
   ]
  },
  {
   "cell_type": "code",
   "execution_count": 41,
   "id": "e10f60dc-3a8a-404d-ab3c-4e9c9611b33d",
   "metadata": {},
   "outputs": [
    {
     "data": {
      "text/plain": [
       "Text(0.5, 1.0, 'Income VS Customer Segmentation')"
      ]
     },
     "execution_count": 41,
     "metadata": {},
     "output_type": "execute_result"
    },
    {
     "data": {
      "image/png": "[encoded data removed]",
      "text/plain": [
       "<Figure size 360x432 with 1 Axes>"
      ]
     },
     "metadata": {},
     "output_type": "display_data"
    }
   ],
   "source": [
    "colors = ['purple', 'orange', 'green']\n",
    "plt.figure(figsize= (5, 6))\n",
    "sns.boxplot(x=df_clustering['cluster'], y=df['income'], palette=colors)\n",
    "plt.tight_layout()\n",
    "\n",
    "plt.title(\"Income VS Customer Segmentation\", fontsize=15, fontweight=\"bold\")"
   ]
  }
 ],
 "metadata": {
  "kernelspec": {
   "display_name": "Python 3 (ipykernel)",
   "language": "python",
   "name": "python3"
  },
  "language_info": {
   "codemirror_mode": {
    "name": "ipython",
    "version": 3
   },
   "file_extension": ".py",
   "mimetype": "text/x-python",
   "name": "python",
   "nbconvert_exporter": "python",
   "pygments_lexer": "ipython3",
   "version": "3.9.12"
  }
 },
 "nbformat": 4,
 "nbformat_minor": 5
}
